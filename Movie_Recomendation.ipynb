{
  "cells": [
    {
      "cell_type": "markdown",
      "metadata": {
        "id": "kpIAuMSyKM0H"
      },
      "source": [
        "## Import library"
      ]
    },
    {
      "cell_type": "code",
      "execution_count": 1,
      "metadata": {
        "id": "4q02JTCSYpTO"
      },
      "outputs": [],
      "source": [
        "import pandas as pd\n",
        "import numpy as np\n",
        "from sklearn.feature_extraction.text import TfidfVectorizer\n",
        "from sklearn.metrics.pairwise import linear_kernel\n",
        "import datetime # Untuk memanipulasi timestamp\n",
        "import matplotlib.pyplot as plt\n",
        "import seaborn as sns\n",
        "\n",
        "# Optional: Untuk progress bar saat komputasi besar\n",
        "from tqdm.notebook import tqdm\n",
        "tqdm.pandas()\n",
        "\n",
        "# Pengaturan visualisasi\n",
        "sns.set(style='whitegrid')\n",
        "plt.rcParams['figure.figsize'] = (12, 8)"
      ]
    },
    {
      "cell_type": "markdown",
      "metadata": {
        "id": "oBSXzBWwrhdH"
      },
      "source": [
        "## Data loading\n"
      ]
    },
    {
      "cell_type": "markdown",
      "metadata": {
        "id": "975fcBNmGjK4"
      },
      "source": [
        "download latest version of the dataset from kaggle using kagglehub"
      ]
    },
    {
      "cell_type": "code",
      "execution_count": 2,
      "metadata": {
        "colab": {
          "base_uri": "https://localhost:8080/"
        },
        "id": "iJm8s4NxDgWN",
        "outputId": "f8949e13-a379-4748-e9e7-16a37e002436"
      },
      "outputs": [
        {
          "output_type": "stream",
          "name": "stdout",
          "text": [
            "Downloading from https://www.kaggle.com/api/v1/datasets/download/amirmotefaker/movielens-10m-dataset-latest-version?dataset_version_number=1...\n"
          ]
        },
        {
          "output_type": "stream",
          "name": "stderr",
          "text": [
            "100%|██████████| 64.3M/64.3M [00:01<00:00, 63.9MB/s]"
          ]
        },
        {
          "output_type": "stream",
          "name": "stdout",
          "text": [
            "Extracting files...\n"
          ]
        },
        {
          "output_type": "stream",
          "name": "stderr",
          "text": [
            "\n"
          ]
        },
        {
          "output_type": "stream",
          "name": "stdout",
          "text": [
            "Path to dataset files: /root/.cache/kagglehub/datasets/amirmotefaker/movielens-10m-dataset-latest-version/versions/1\n"
          ]
        }
      ],
      "source": [
        "import kagglehub\n",
        "\n",
        "# Path untuk dataset MovieLens 10M\n",
        "# Pastikan kamu memiliki token Kaggle atau menjalankannya di lingkungan Colab yang terautentikasi ke Kaggle\n",
        "# Jika ada masalah, pastikan Kaggle API key sudah terkonfigurasi di Colab Secrets atau secara manual.\n",
        "path = kagglehub.dataset_download(\"amirmotefaker/movielens-10m-dataset-latest-version\")\n",
        "\n",
        "print(\"Path to dataset files:\", path)"
      ]
    },
    {
      "cell_type": "markdown",
      "metadata": {
        "id": "3dcO_xg3rkQD"
      },
      "source": [
        "\n",
        "Load the data from \"movies.csv\" and \"ratings.csv\" into dataframes, starting from adding movies_path and ratings_path\n",
        "\n"
      ]
    },
    {
      "cell_type": "code",
      "execution_count": 3,
      "metadata": {
        "id": "6x9JFBOwrkfy"
      },
      "outputs": [],
      "source": [
        "# Load the data from \"movies.csv\" and \"ratings.csv\" into dataframes\n",
        "movies_path = f\"{path}/ml-10M100K/movies.dat\"\n",
        "ratings_path = f\"{path}/ml-10M100K/ratings.dat\""
      ]
    },
    {
      "cell_type": "markdown",
      "metadata": {
        "id": "KN1IJ53jHAIa"
      },
      "source": [
        "Read movies.dat, the file is tab-separated and has three columns: movie_id, title, and genres"
      ]
    },
    {
      "cell_type": "code",
      "execution_count": 4,
      "metadata": {
        "id": "WXF3QylBGVud"
      },
      "outputs": [],
      "source": [
        "# Read movies.dat\n",
        "movies = pd.read_csv(movies_path, sep='::', engine='python', header=None, names=['movie_id', 'title', 'genres'])"
      ]
    },
    {
      "cell_type": "markdown",
      "metadata": {
        "id": "Lmd_e8JaHP2M"
      },
      "source": [
        "Read ratings.dat, the file is tab-separated and has four columns: user_id, movie_id, rating, and timestamp"
      ]
    },
    {
      "cell_type": "code",
      "execution_count": 5,
      "metadata": {
        "id": "Y-m3mScIGURy"
      },
      "outputs": [],
      "source": [
        "# Read ratings.dat\n",
        "ratings = pd.read_csv(ratings_path, sep='::', engine='python', header=None, names=['user_id', 'movie_id', 'rating', 'timestamp'])\n"
      ]
    },
    {
      "cell_type": "markdown",
      "metadata": {
        "id": "SnbNdfSYHWTg"
      },
      "source": [
        "Display the head of movies dataframes to verify"
      ]
    },
    {
      "cell_type": "code",
      "execution_count": 6,
      "metadata": {
        "colab": {
          "base_uri": "https://localhost:8080/",
          "height": 241
        },
        "id": "SPVB87jlF7zx",
        "outputId": "64dba506-62c4-4b20-e9e8-c9c1caebe718"
      },
      "outputs": [
        {
          "output_type": "stream",
          "name": "stdout",
          "text": [
            "\n",
            "Movies DataFrame Head:\n"
          ]
        },
        {
          "output_type": "execute_result",
          "data": {
            "text/plain": [
              "   movie_id                               title  \\\n",
              "0         1                    Toy Story (1995)   \n",
              "1         2                      Jumanji (1995)   \n",
              "2         3             Grumpier Old Men (1995)   \n",
              "3         4            Waiting to Exhale (1995)   \n",
              "4         5  Father of the Bride Part II (1995)   \n",
              "\n",
              "                                        genres  \n",
              "0  Adventure|Animation|Children|Comedy|Fantasy  \n",
              "1                   Adventure|Children|Fantasy  \n",
              "2                               Comedy|Romance  \n",
              "3                         Comedy|Drama|Romance  \n",
              "4                                       Comedy  "
            ],
            "text/html": [
              "\n",
              "  <div id=\"df-21c733ab-47cc-4878-8d1d-7af86d6085af\" class=\"colab-df-container\">\n",
              "    <div>\n",
              "<style scoped>\n",
              "    .dataframe tbody tr th:only-of-type {\n",
              "        vertical-align: middle;\n",
              "    }\n",
              "\n",
              "    .dataframe tbody tr th {\n",
              "        vertical-align: top;\n",
              "    }\n",
              "\n",
              "    .dataframe thead th {\n",
              "        text-align: right;\n",
              "    }\n",
              "</style>\n",
              "<table border=\"1\" class=\"dataframe\">\n",
              "  <thead>\n",
              "    <tr style=\"text-align: right;\">\n",
              "      <th></th>\n",
              "      <th>movie_id</th>\n",
              "      <th>title</th>\n",
              "      <th>genres</th>\n",
              "    </tr>\n",
              "  </thead>\n",
              "  <tbody>\n",
              "    <tr>\n",
              "      <th>0</th>\n",
              "      <td>1</td>\n",
              "      <td>Toy Story (1995)</td>\n",
              "      <td>Adventure|Animation|Children|Comedy|Fantasy</td>\n",
              "    </tr>\n",
              "    <tr>\n",
              "      <th>1</th>\n",
              "      <td>2</td>\n",
              "      <td>Jumanji (1995)</td>\n",
              "      <td>Adventure|Children|Fantasy</td>\n",
              "    </tr>\n",
              "    <tr>\n",
              "      <th>2</th>\n",
              "      <td>3</td>\n",
              "      <td>Grumpier Old Men (1995)</td>\n",
              "      <td>Comedy|Romance</td>\n",
              "    </tr>\n",
              "    <tr>\n",
              "      <th>3</th>\n",
              "      <td>4</td>\n",
              "      <td>Waiting to Exhale (1995)</td>\n",
              "      <td>Comedy|Drama|Romance</td>\n",
              "    </tr>\n",
              "    <tr>\n",
              "      <th>4</th>\n",
              "      <td>5</td>\n",
              "      <td>Father of the Bride Part II (1995)</td>\n",
              "      <td>Comedy</td>\n",
              "    </tr>\n",
              "  </tbody>\n",
              "</table>\n",
              "</div>\n",
              "    <div class=\"colab-df-buttons\">\n",
              "\n",
              "  <div class=\"colab-df-container\">\n",
              "    <button class=\"colab-df-convert\" onclick=\"convertToInteractive('df-21c733ab-47cc-4878-8d1d-7af86d6085af')\"\n",
              "            title=\"Convert this dataframe to an interactive table.\"\n",
              "            style=\"display:none;\">\n",
              "\n",
              "  <svg xmlns=\"http://www.w3.org/2000/svg\" height=\"24px\" viewBox=\"0 -960 960 960\">\n",
              "    <path d=\"M120-120v-720h720v720H120Zm60-500h600v-160H180v160Zm220 220h160v-160H400v160Zm0 220h160v-160H400v160ZM180-400h160v-160H180v160Zm440 0h160v-160H620v160ZM180-180h160v-160H180v160Zm440 0h160v-160H620v160Z\"/>\n",
              "  </svg>\n",
              "    </button>\n",
              "\n",
              "  <style>\n",
              "    .colab-df-container {\n",
              "      display:flex;\n",
              "      gap: 12px;\n",
              "    }\n",
              "\n",
              "    .colab-df-convert {\n",
              "      background-color: #E8F0FE;\n",
              "      border: none;\n",
              "      border-radius: 50%;\n",
              "      cursor: pointer;\n",
              "      display: none;\n",
              "      fill: #1967D2;\n",
              "      height: 32px;\n",
              "      padding: 0 0 0 0;\n",
              "      width: 32px;\n",
              "    }\n",
              "\n",
              "    .colab-df-convert:hover {\n",
              "      background-color: #E2EBFA;\n",
              "      box-shadow: 0px 1px 2px rgba(60, 64, 67, 0.3), 0px 1px 3px 1px rgba(60, 64, 67, 0.15);\n",
              "      fill: #174EA6;\n",
              "    }\n",
              "\n",
              "    .colab-df-buttons div {\n",
              "      margin-bottom: 4px;\n",
              "    }\n",
              "\n",
              "    [theme=dark] .colab-df-convert {\n",
              "      background-color: #3B4455;\n",
              "      fill: #D2E3FC;\n",
              "    }\n",
              "\n",
              "    [theme=dark] .colab-df-convert:hover {\n",
              "      background-color: #434B5C;\n",
              "      box-shadow: 0px 1px 3px 1px rgba(0, 0, 0, 0.15);\n",
              "      filter: drop-shadow(0px 1px 2px rgba(0, 0, 0, 0.3));\n",
              "      fill: #FFFFFF;\n",
              "    }\n",
              "  </style>\n",
              "\n",
              "    <script>\n",
              "      const buttonEl =\n",
              "        document.querySelector('#df-21c733ab-47cc-4878-8d1d-7af86d6085af button.colab-df-convert');\n",
              "      buttonEl.style.display =\n",
              "        google.colab.kernel.accessAllowed ? 'block' : 'none';\n",
              "\n",
              "      async function convertToInteractive(key) {\n",
              "        const element = document.querySelector('#df-21c733ab-47cc-4878-8d1d-7af86d6085af');\n",
              "        const dataTable =\n",
              "          await google.colab.kernel.invokeFunction('convertToInteractive',\n",
              "                                                    [key], {});\n",
              "        if (!dataTable) return;\n",
              "\n",
              "        const docLinkHtml = 'Like what you see? Visit the ' +\n",
              "          '<a target=\"_blank\" href=https://colab.research.google.com/notebooks/data_table.ipynb>data table notebook</a>'\n",
              "          + ' to learn more about interactive tables.';\n",
              "        element.innerHTML = '';\n",
              "        dataTable['output_type'] = 'display_data';\n",
              "        await google.colab.output.renderOutput(dataTable, element);\n",
              "        const docLink = document.createElement('div');\n",
              "        docLink.innerHTML = docLinkHtml;\n",
              "        element.appendChild(docLink);\n",
              "      }\n",
              "    </script>\n",
              "  </div>\n",
              "\n",
              "\n",
              "    <div id=\"df-128834df-843a-48c0-9dfd-98c18c8b857b\">\n",
              "      <button class=\"colab-df-quickchart\" onclick=\"quickchart('df-128834df-843a-48c0-9dfd-98c18c8b857b')\"\n",
              "                title=\"Suggest charts\"\n",
              "                style=\"display:none;\">\n",
              "\n",
              "<svg xmlns=\"http://www.w3.org/2000/svg\" height=\"24px\"viewBox=\"0 0 24 24\"\n",
              "     width=\"24px\">\n",
              "    <g>\n",
              "        <path d=\"M19 3H5c-1.1 0-2 .9-2 2v14c0 1.1.9 2 2 2h14c1.1 0 2-.9 2-2V5c0-1.1-.9-2-2-2zM9 17H7v-7h2v7zm4 0h-2V7h2v10zm4 0h-2v-4h2v4z\"/>\n",
              "    </g>\n",
              "</svg>\n",
              "      </button>\n",
              "\n",
              "<style>\n",
              "  .colab-df-quickchart {\n",
              "      --bg-color: #E8F0FE;\n",
              "      --fill-color: #1967D2;\n",
              "      --hover-bg-color: #E2EBFA;\n",
              "      --hover-fill-color: #174EA6;\n",
              "      --disabled-fill-color: #AAA;\n",
              "      --disabled-bg-color: #DDD;\n",
              "  }\n",
              "\n",
              "  [theme=dark] .colab-df-quickchart {\n",
              "      --bg-color: #3B4455;\n",
              "      --fill-color: #D2E3FC;\n",
              "      --hover-bg-color: #434B5C;\n",
              "      --hover-fill-color: #FFFFFF;\n",
              "      --disabled-bg-color: #3B4455;\n",
              "      --disabled-fill-color: #666;\n",
              "  }\n",
              "\n",
              "  .colab-df-quickchart {\n",
              "    background-color: var(--bg-color);\n",
              "    border: none;\n",
              "    border-radius: 50%;\n",
              "    cursor: pointer;\n",
              "    display: none;\n",
              "    fill: var(--fill-color);\n",
              "    height: 32px;\n",
              "    padding: 0;\n",
              "    width: 32px;\n",
              "  }\n",
              "\n",
              "  .colab-df-quickchart:hover {\n",
              "    background-color: var(--hover-bg-color);\n",
              "    box-shadow: 0 1px 2px rgba(60, 64, 67, 0.3), 0 1px 3px 1px rgba(60, 64, 67, 0.15);\n",
              "    fill: var(--button-hover-fill-color);\n",
              "  }\n",
              "\n",
              "  .colab-df-quickchart-complete:disabled,\n",
              "  .colab-df-quickchart-complete:disabled:hover {\n",
              "    background-color: var(--disabled-bg-color);\n",
              "    fill: var(--disabled-fill-color);\n",
              "    box-shadow: none;\n",
              "  }\n",
              "\n",
              "  .colab-df-spinner {\n",
              "    border: 2px solid var(--fill-color);\n",
              "    border-color: transparent;\n",
              "    border-bottom-color: var(--fill-color);\n",
              "    animation:\n",
              "      spin 1s steps(1) infinite;\n",
              "  }\n",
              "\n",
              "  @keyframes spin {\n",
              "    0% {\n",
              "      border-color: transparent;\n",
              "      border-bottom-color: var(--fill-color);\n",
              "      border-left-color: var(--fill-color);\n",
              "    }\n",
              "    20% {\n",
              "      border-color: transparent;\n",
              "      border-left-color: var(--fill-color);\n",
              "      border-top-color: var(--fill-color);\n",
              "    }\n",
              "    30% {\n",
              "      border-color: transparent;\n",
              "      border-left-color: var(--fill-color);\n",
              "      border-top-color: var(--fill-color);\n",
              "      border-right-color: var(--fill-color);\n",
              "    }\n",
              "    40% {\n",
              "      border-color: transparent;\n",
              "      border-right-color: var(--fill-color);\n",
              "      border-top-color: var(--fill-color);\n",
              "    }\n",
              "    60% {\n",
              "      border-color: transparent;\n",
              "      border-right-color: var(--fill-color);\n",
              "    }\n",
              "    80% {\n",
              "      border-color: transparent;\n",
              "      border-right-color: var(--fill-color);\n",
              "      border-bottom-color: var(--fill-color);\n",
              "    }\n",
              "    90% {\n",
              "      border-color: transparent;\n",
              "      border-bottom-color: var(--fill-color);\n",
              "    }\n",
              "  }\n",
              "</style>\n",
              "\n",
              "      <script>\n",
              "        async function quickchart(key) {\n",
              "          const quickchartButtonEl =\n",
              "            document.querySelector('#' + key + ' button');\n",
              "          quickchartButtonEl.disabled = true;  // To prevent multiple clicks.\n",
              "          quickchartButtonEl.classList.add('colab-df-spinner');\n",
              "          try {\n",
              "            const charts = await google.colab.kernel.invokeFunction(\n",
              "                'suggestCharts', [key], {});\n",
              "          } catch (error) {\n",
              "            console.error('Error during call to suggestCharts:', error);\n",
              "          }\n",
              "          quickchartButtonEl.classList.remove('colab-df-spinner');\n",
              "          quickchartButtonEl.classList.add('colab-df-quickchart-complete');\n",
              "        }\n",
              "        (() => {\n",
              "          let quickchartButtonEl =\n",
              "            document.querySelector('#df-128834df-843a-48c0-9dfd-98c18c8b857b button');\n",
              "          quickchartButtonEl.style.display =\n",
              "            google.colab.kernel.accessAllowed ? 'block' : 'none';\n",
              "        })();\n",
              "      </script>\n",
              "    </div>\n",
              "\n",
              "    </div>\n",
              "  </div>\n"
            ],
            "application/vnd.google.colaboratory.intrinsic+json": {
              "type": "dataframe",
              "variable_name": "movies",
              "summary": "{\n  \"name\": \"movies\",\n  \"rows\": 10681,\n  \"fields\": [\n    {\n      \"column\": \"movie_id\",\n      \"properties\": {\n        \"dtype\": \"number\",\n        \"std\": 17808,\n        \"min\": 1,\n        \"max\": 65133,\n        \"num_unique_values\": 10681,\n        \"samples\": [\n          4924,\n          3862,\n          1574\n        ],\n        \"semantic_type\": \"\",\n        \"description\": \"\"\n      }\n    },\n    {\n      \"column\": \"title\",\n      \"properties\": {\n        \"dtype\": \"string\",\n        \"num_unique_values\": 10680,\n        \"samples\": [\n          \"Before the Devil Knows You're Dead (2007)\",\n          \"Fisher King, The (1991)\",\n          \"Sixty Six (2006)\"\n        ],\n        \"semantic_type\": \"\",\n        \"description\": \"\"\n      }\n    },\n    {\n      \"column\": \"genres\",\n      \"properties\": {\n        \"dtype\": \"category\",\n        \"num_unique_values\": 797,\n        \"samples\": [\n          \"Comedy|Drama|Horror|Sci-Fi|Thriller\",\n          \"Comedy|Drama|Film-Noir\",\n          \"Comedy|Crime|Drama\"\n        ],\n        \"semantic_type\": \"\",\n        \"description\": \"\"\n      }\n    }\n  ]\n}"
            }
          },
          "metadata": {},
          "execution_count": 6
        }
      ],
      "source": [
        "print(\"\\nMovies DataFrame Head:\")\n",
        "movies.head()"
      ]
    },
    {
      "cell_type": "markdown",
      "metadata": {
        "id": "HJ5inEj4HbCS"
      },
      "source": [
        "Display the head of ratings dataframes to verify"
      ]
    },
    {
      "cell_type": "code",
      "execution_count": 7,
      "metadata": {
        "colab": {
          "base_uri": "https://localhost:8080/",
          "height": 241
        },
        "id": "SkoXm6wWGDVk",
        "outputId": "0bd47317-7f46-4fa0-d996-33217c54e620"
      },
      "outputs": [
        {
          "output_type": "stream",
          "name": "stdout",
          "text": [
            "\n",
            "Ratings DataFrame Head:\n"
          ]
        },
        {
          "output_type": "execute_result",
          "data": {
            "text/plain": [
              "   user_id  movie_id  rating  timestamp\n",
              "0        1       122     5.0  838985046\n",
              "1        1       185     5.0  838983525\n",
              "2        1       231     5.0  838983392\n",
              "3        1       292     5.0  838983421\n",
              "4        1       316     5.0  838983392"
            ],
            "text/html": [
              "\n",
              "  <div id=\"df-868f0417-f7c7-46cc-9a16-9a03c90ed4ec\" class=\"colab-df-container\">\n",
              "    <div>\n",
              "<style scoped>\n",
              "    .dataframe tbody tr th:only-of-type {\n",
              "        vertical-align: middle;\n",
              "    }\n",
              "\n",
              "    .dataframe tbody tr th {\n",
              "        vertical-align: top;\n",
              "    }\n",
              "\n",
              "    .dataframe thead th {\n",
              "        text-align: right;\n",
              "    }\n",
              "</style>\n",
              "<table border=\"1\" class=\"dataframe\">\n",
              "  <thead>\n",
              "    <tr style=\"text-align: right;\">\n",
              "      <th></th>\n",
              "      <th>user_id</th>\n",
              "      <th>movie_id</th>\n",
              "      <th>rating</th>\n",
              "      <th>timestamp</th>\n",
              "    </tr>\n",
              "  </thead>\n",
              "  <tbody>\n",
              "    <tr>\n",
              "      <th>0</th>\n",
              "      <td>1</td>\n",
              "      <td>122</td>\n",
              "      <td>5.0</td>\n",
              "      <td>838985046</td>\n",
              "    </tr>\n",
              "    <tr>\n",
              "      <th>1</th>\n",
              "      <td>1</td>\n",
              "      <td>185</td>\n",
              "      <td>5.0</td>\n",
              "      <td>838983525</td>\n",
              "    </tr>\n",
              "    <tr>\n",
              "      <th>2</th>\n",
              "      <td>1</td>\n",
              "      <td>231</td>\n",
              "      <td>5.0</td>\n",
              "      <td>838983392</td>\n",
              "    </tr>\n",
              "    <tr>\n",
              "      <th>3</th>\n",
              "      <td>1</td>\n",
              "      <td>292</td>\n",
              "      <td>5.0</td>\n",
              "      <td>838983421</td>\n",
              "    </tr>\n",
              "    <tr>\n",
              "      <th>4</th>\n",
              "      <td>1</td>\n",
              "      <td>316</td>\n",
              "      <td>5.0</td>\n",
              "      <td>838983392</td>\n",
              "    </tr>\n",
              "  </tbody>\n",
              "</table>\n",
              "</div>\n",
              "    <div class=\"colab-df-buttons\">\n",
              "\n",
              "  <div class=\"colab-df-container\">\n",
              "    <button class=\"colab-df-convert\" onclick=\"convertToInteractive('df-868f0417-f7c7-46cc-9a16-9a03c90ed4ec')\"\n",
              "            title=\"Convert this dataframe to an interactive table.\"\n",
              "            style=\"display:none;\">\n",
              "\n",
              "  <svg xmlns=\"http://www.w3.org/2000/svg\" height=\"24px\" viewBox=\"0 -960 960 960\">\n",
              "    <path d=\"M120-120v-720h720v720H120Zm60-500h600v-160H180v160Zm220 220h160v-160H400v160Zm0 220h160v-160H400v160ZM180-400h160v-160H180v160Zm440 0h160v-160H620v160ZM180-180h160v-160H180v160Zm440 0h160v-160H620v160Z\"/>\n",
              "  </svg>\n",
              "    </button>\n",
              "\n",
              "  <style>\n",
              "    .colab-df-container {\n",
              "      display:flex;\n",
              "      gap: 12px;\n",
              "    }\n",
              "\n",
              "    .colab-df-convert {\n",
              "      background-color: #E8F0FE;\n",
              "      border: none;\n",
              "      border-radius: 50%;\n",
              "      cursor: pointer;\n",
              "      display: none;\n",
              "      fill: #1967D2;\n",
              "      height: 32px;\n",
              "      padding: 0 0 0 0;\n",
              "      width: 32px;\n",
              "    }\n",
              "\n",
              "    .colab-df-convert:hover {\n",
              "      background-color: #E2EBFA;\n",
              "      box-shadow: 0px 1px 2px rgba(60, 64, 67, 0.3), 0px 1px 3px 1px rgba(60, 64, 67, 0.15);\n",
              "      fill: #174EA6;\n",
              "    }\n",
              "\n",
              "    .colab-df-buttons div {\n",
              "      margin-bottom: 4px;\n",
              "    }\n",
              "\n",
              "    [theme=dark] .colab-df-convert {\n",
              "      background-color: #3B4455;\n",
              "      fill: #D2E3FC;\n",
              "    }\n",
              "\n",
              "    [theme=dark] .colab-df-convert:hover {\n",
              "      background-color: #434B5C;\n",
              "      box-shadow: 0px 1px 3px 1px rgba(0, 0, 0, 0.15);\n",
              "      filter: drop-shadow(0px 1px 2px rgba(0, 0, 0, 0.3));\n",
              "      fill: #FFFFFF;\n",
              "    }\n",
              "  </style>\n",
              "\n",
              "    <script>\n",
              "      const buttonEl =\n",
              "        document.querySelector('#df-868f0417-f7c7-46cc-9a16-9a03c90ed4ec button.colab-df-convert');\n",
              "      buttonEl.style.display =\n",
              "        google.colab.kernel.accessAllowed ? 'block' : 'none';\n",
              "\n",
              "      async function convertToInteractive(key) {\n",
              "        const element = document.querySelector('#df-868f0417-f7c7-46cc-9a16-9a03c90ed4ec');\n",
              "        const dataTable =\n",
              "          await google.colab.kernel.invokeFunction('convertToInteractive',\n",
              "                                                    [key], {});\n",
              "        if (!dataTable) return;\n",
              "\n",
              "        const docLinkHtml = 'Like what you see? Visit the ' +\n",
              "          '<a target=\"_blank\" href=https://colab.research.google.com/notebooks/data_table.ipynb>data table notebook</a>'\n",
              "          + ' to learn more about interactive tables.';\n",
              "        element.innerHTML = '';\n",
              "        dataTable['output_type'] = 'display_data';\n",
              "        await google.colab.output.renderOutput(dataTable, element);\n",
              "        const docLink = document.createElement('div');\n",
              "        docLink.innerHTML = docLinkHtml;\n",
              "        element.appendChild(docLink);\n",
              "      }\n",
              "    </script>\n",
              "  </div>\n",
              "\n",
              "\n",
              "    <div id=\"df-e31d2501-1b02-4fe1-aafe-4f526272502a\">\n",
              "      <button class=\"colab-df-quickchart\" onclick=\"quickchart('df-e31d2501-1b02-4fe1-aafe-4f526272502a')\"\n",
              "                title=\"Suggest charts\"\n",
              "                style=\"display:none;\">\n",
              "\n",
              "<svg xmlns=\"http://www.w3.org/2000/svg\" height=\"24px\"viewBox=\"0 0 24 24\"\n",
              "     width=\"24px\">\n",
              "    <g>\n",
              "        <path d=\"M19 3H5c-1.1 0-2 .9-2 2v14c0 1.1.9 2 2 2h14c1.1 0 2-.9 2-2V5c0-1.1-.9-2-2-2zM9 17H7v-7h2v7zm4 0h-2V7h2v10zm4 0h-2v-4h2v4z\"/>\n",
              "    </g>\n",
              "</svg>\n",
              "      </button>\n",
              "\n",
              "<style>\n",
              "  .colab-df-quickchart {\n",
              "      --bg-color: #E8F0FE;\n",
              "      --fill-color: #1967D2;\n",
              "      --hover-bg-color: #E2EBFA;\n",
              "      --hover-fill-color: #174EA6;\n",
              "      --disabled-fill-color: #AAA;\n",
              "      --disabled-bg-color: #DDD;\n",
              "  }\n",
              "\n",
              "  [theme=dark] .colab-df-quickchart {\n",
              "      --bg-color: #3B4455;\n",
              "      --fill-color: #D2E3FC;\n",
              "      --hover-bg-color: #434B5C;\n",
              "      --hover-fill-color: #FFFFFF;\n",
              "      --disabled-bg-color: #3B4455;\n",
              "      --disabled-fill-color: #666;\n",
              "  }\n",
              "\n",
              "  .colab-df-quickchart {\n",
              "    background-color: var(--bg-color);\n",
              "    border: none;\n",
              "    border-radius: 50%;\n",
              "    cursor: pointer;\n",
              "    display: none;\n",
              "    fill: var(--fill-color);\n",
              "    height: 32px;\n",
              "    padding: 0;\n",
              "    width: 32px;\n",
              "  }\n",
              "\n",
              "  .colab-df-quickchart:hover {\n",
              "    background-color: var(--hover-bg-color);\n",
              "    box-shadow: 0 1px 2px rgba(60, 64, 67, 0.3), 0 1px 3px 1px rgba(60, 64, 67, 0.15);\n",
              "    fill: var(--button-hover-fill-color);\n",
              "  }\n",
              "\n",
              "  .colab-df-quickchart-complete:disabled,\n",
              "  .colab-df-quickchart-complete:disabled:hover {\n",
              "    background-color: var(--disabled-bg-color);\n",
              "    fill: var(--disabled-fill-color);\n",
              "    box-shadow: none;\n",
              "  }\n",
              "\n",
              "  .colab-df-spinner {\n",
              "    border: 2px solid var(--fill-color);\n",
              "    border-color: transparent;\n",
              "    border-bottom-color: var(--fill-color);\n",
              "    animation:\n",
              "      spin 1s steps(1) infinite;\n",
              "  }\n",
              "\n",
              "  @keyframes spin {\n",
              "    0% {\n",
              "      border-color: transparent;\n",
              "      border-bottom-color: var(--fill-color);\n",
              "      border-left-color: var(--fill-color);\n",
              "    }\n",
              "    20% {\n",
              "      border-color: transparent;\n",
              "      border-left-color: var(--fill-color);\n",
              "      border-top-color: var(--fill-color);\n",
              "    }\n",
              "    30% {\n",
              "      border-color: transparent;\n",
              "      border-left-color: var(--fill-color);\n",
              "      border-top-color: var(--fill-color);\n",
              "      border-right-color: var(--fill-color);\n",
              "    }\n",
              "    40% {\n",
              "      border-color: transparent;\n",
              "      border-right-color: var(--fill-color);\n",
              "      border-top-color: var(--fill-color);\n",
              "    }\n",
              "    60% {\n",
              "      border-color: transparent;\n",
              "      border-right-color: var(--fill-color);\n",
              "    }\n",
              "    80% {\n",
              "      border-color: transparent;\n",
              "      border-right-color: var(--fill-color);\n",
              "      border-bottom-color: var(--fill-color);\n",
              "    }\n",
              "    90% {\n",
              "      border-color: transparent;\n",
              "      border-bottom-color: var(--fill-color);\n",
              "    }\n",
              "  }\n",
              "</style>\n",
              "\n",
              "      <script>\n",
              "        async function quickchart(key) {\n",
              "          const quickchartButtonEl =\n",
              "            document.querySelector('#' + key + ' button');\n",
              "          quickchartButtonEl.disabled = true;  // To prevent multiple clicks.\n",
              "          quickchartButtonEl.classList.add('colab-df-spinner');\n",
              "          try {\n",
              "            const charts = await google.colab.kernel.invokeFunction(\n",
              "                'suggestCharts', [key], {});\n",
              "          } catch (error) {\n",
              "            console.error('Error during call to suggestCharts:', error);\n",
              "          }\n",
              "          quickchartButtonEl.classList.remove('colab-df-spinner');\n",
              "          quickchartButtonEl.classList.add('colab-df-quickchart-complete');\n",
              "        }\n",
              "        (() => {\n",
              "          let quickchartButtonEl =\n",
              "            document.querySelector('#df-e31d2501-1b02-4fe1-aafe-4f526272502a button');\n",
              "          quickchartButtonEl.style.display =\n",
              "            google.colab.kernel.accessAllowed ? 'block' : 'none';\n",
              "        })();\n",
              "      </script>\n",
              "    </div>\n",
              "\n",
              "    </div>\n",
              "  </div>\n"
            ],
            "application/vnd.google.colaboratory.intrinsic+json": {
              "type": "dataframe",
              "variable_name": "ratings"
            }
          },
          "metadata": {},
          "execution_count": 7
        }
      ],
      "source": [
        "print(\"\\nRatings DataFrame Head:\")\n",
        "ratings.head()"
      ]
    },
    {
      "cell_type": "markdown",
      "source": [
        "## Exploratory Data Analysis\n",
        "\n",
        "\n"
      ],
      "metadata": {
        "id": "uU6r-FpZ5dfV"
      }
    },
    {
      "cell_type": "markdown",
      "source": [
        "Get information about the data types and non-null values"
      ],
      "metadata": {
        "id": "dz2wTzHvw06Y"
      }
    },
    {
      "cell_type": "code",
      "execution_count": 8,
      "metadata": {
        "colab": {
          "base_uri": "https://localhost:8080/"
        },
        "id": "VwEO5laUaP1P",
        "outputId": "ee1f3a60-438b-494c-bf08-1b7418bd9f90"
      },
      "outputs": [
        {
          "output_type": "stream",
          "name": "stdout",
          "text": [
            "\n",
            "--- EDA: Movies DataFrame ---\n",
            "Movies Info:\n",
            "<class 'pandas.core.frame.DataFrame'>\n",
            "RangeIndex: 10681 entries, 0 to 10680\n",
            "Data columns (total 3 columns):\n",
            " #   Column    Non-Null Count  Dtype \n",
            "---  ------    --------------  ----- \n",
            " 0   movie_id  10681 non-null  int64 \n",
            " 1   title     10681 non-null  object\n",
            " 2   genres    10681 non-null  object\n",
            "dtypes: int64(1), object(2)\n",
            "memory usage: 250.5+ KB\n"
          ]
        }
      ],
      "source": [
        "print(\"\\n--- EDA: Movies DataFrame ---\")\n",
        "print(\"Movies Info:\")\n",
        "movies.info()"
      ]
    },
    {
      "cell_type": "markdown",
      "metadata": {
        "id": "0VD121_IHrhv"
      },
      "source": [
        "Get a count of unique movies"
      ]
    },
    {
      "cell_type": "code",
      "execution_count": 9,
      "metadata": {
        "colab": {
          "base_uri": "https://localhost:8080/"
        },
        "id": "0XS4Jhc3Hqph",
        "outputId": "2172552b-9fe2-4137-900d-888a418d860c"
      },
      "outputs": [
        {
          "output_type": "stream",
          "name": "stdout",
          "text": [
            "\n",
            "Number of unique movies: 10681\n",
            "Number of unique genres: 797\n"
          ]
        }
      ],
      "source": [
        "print(\"\\nNumber of unique movies:\", movies['movie_id'].nunique())\n",
        "print(\"Number of unique genres:\", movies['genres'].nunique())"
      ]
    },
    {
      "cell_type": "markdown",
      "source": [
        "Top 10 Most Common Movie Genres"
      ],
      "metadata": {
        "id": "lkTVO7s3p50m"
      }
    },
    {
      "cell_type": "code",
      "execution_count": 10,
      "metadata": {
        "colab": {
          "base_uri": "https://localhost:8080/"
        },
        "id": "ST6kkTbgHydV",
        "outputId": "6b740e30-390c-4975-c87e-e4217e16af32"
      },
      "outputs": [
        {
          "output_type": "stream",
          "name": "stdout",
          "text": [
            "\n",
            "Top 10 Genres (combinations):\n",
            "genres\n",
            "Drama                   1817\n",
            "Comedy                  1047\n",
            "Comedy|Drama             551\n",
            "Drama|Romance            412\n",
            "Comedy|Romance           379\n",
            "Documentary              350\n",
            "Horror                   267\n",
            "Comedy|Drama|Romance     255\n",
            "Drama|Thriller           192\n",
            "Drama|War                173\n",
            "Name: count, dtype: int64\n"
          ]
        }
      ],
      "source": [
        "print(\"\\nTop 10 Genres (combinations):\")\n",
        "print(movies['genres'].value_counts().head(10))"
      ]
    },
    {
      "cell_type": "code",
      "source": [
        "plt.figure(figsize=(12, 7))\n",
        "\n",
        "genre_counts = movies['genres'].str.split('|').explode().value_counts()\n",
        "\n",
        "top_10_genres = genre_counts.head(10)\n",
        "\n",
        "sns.barplot(x=top_10_genres.values, y=top_10_genres.index, palette='mako')\n",
        "plt.title('Top 10 Most Common Movie Genres', fontsize=16)\n",
        "plt.xlabel('Number of Movies')\n",
        "plt.ylabel('Genre')\n",
        "plt.show()"
      ],
      "metadata": {
        "colab": {
          "base_uri": "https://localhost:8080/",
          "height": 739
        },
        "id": "V0wO51-KpxfH",
        "outputId": "89e384bd-182b-48e0-e10d-20990a37e34d"
      },
      "execution_count": 11,
      "outputs": [
        {
          "output_type": "stream",
          "name": "stderr",
          "text": [
            "/tmp/ipython-input-11-4241734516.py:7: FutureWarning: \n",
            "\n",
            "Passing `palette` without assigning `hue` is deprecated and will be removed in v0.14.0. Assign the `y` variable to `hue` and set `legend=False` for the same effect.\n",
            "\n",
            "  sns.barplot(x=top_10_genres.values, y=top_10_genres.index, palette='mako')\n"
          ]
        },
        {
          "output_type": "display_data",
          "data": {
            "text/plain": [
              "<Figure size 1200x700 with 1 Axes>"
            ],
            "image/png": "[encoded data removed]"
          },
          "metadata": {}
        }
      ]
    },
    {
      "cell_type": "markdown",
      "source": [
        "This bar chart illustrates the distribution of movie genres within the MovieLens 10M dataset.\n",
        "\n",
        "*Key Observations:*\n",
        "\n",
        "- Dominant Genres: \"Drama\" and \"Comedy\" are overwhelmingly the most frequent\n",
        "genres, indicating a significant volume of movies categorized under them.\n",
        "- Skewed Distribution: The data shows a skewed distribution, with a few genres (like Drama and Comedy) appearing much more frequently than others (e.g., Sci-Fi, Fantasy).\n",
        "- Implication of Popularity Bias: This skewness creates a 'popularity bias'. Recommendation systems built on this genre data might disproportionately suggest Drama and Comedy films due to their high representation, potentially limiting the discovery of more diverse or niche content.\n",
        "\n",
        "This analysis highlights that while the dataset is extensive, its genre distribution suggests that a purely genre-based Content-Based filtering approach might lead to overspecialization in recommendations."
      ],
      "metadata": {
        "id": "FZP4YyQIqGQK"
      }
    },
    {
      "cell_type": "markdown",
      "source": [
        "Ekstraksi tahun rilis dari judul film"
      ],
      "metadata": {
        "id": "ldMAnlvAm6Al"
      }
    },
    {
      "cell_type": "code",
      "source": [
        "movies['year'] = movies['title'].str.extract(r'\\((\\d{4})\\)').astype(float)\n",
        "plt.figure(figsize=(15, 6))\n",
        "sns.histplot(movies['year'].dropna(), bins=50, kde=True)\n",
        "plt.title('Distribution of Movie Release Years')\n",
        "plt.xlabel('Release Year')\n",
        "plt.ylabel('Number of Movies')\n",
        "plt.grid(True)\n",
        "plt.show()\n",
        "movies.drop('year', axis=1, inplace=True)"
      ],
      "metadata": {
        "colab": {
          "base_uri": "https://localhost:8080/",
          "height": 573
        },
        "id": "HuPn2Xcym5NU",
        "outputId": "025ea96f-f271-4e63-a87d-d1240a9ecf45"
      },
      "execution_count": 12,
      "outputs": [
        {
          "output_type": "display_data",
          "data": {
            "text/plain": [
              "<Figure size 1500x600 with 1 Axes>"
            ],
            "image/png": "[encoded data removed]"
          },
          "metadata": {}
        }
      ]
    },
    {
      "cell_type": "markdown",
      "source": [
        "This bar chart, displaying the \"Distribution of Movie Release Years,\" illustrates the temporal spread of films within the MovieLens 10M dataset.\n",
        "\n",
        "*Key Observations:*\n",
        "\n",
        "- Increasing Trend: There's a clear upward trend in the number of movies released over time, with a significant increase from the 1980s onwards.\n",
        "- Peak in Early 2000s: The distribution peaks around the early 2000s, indicating that the majority of films in the dataset were released during this period.\n",
        "- Declining Frequency Post-Peak: After this peak, there's a noticeable decline in the number of movies, suggesting that the dataset may not include a complete representation of very recent films.\n",
        "- Limited Older Content: Films from before the 1940s are scarce, reflecting a smaller collection of older movies in the dataset.\n",
        "\n",
        "**Implications for Recommendation Systems:**\n",
        "This temporal distribution is crucial for time-aware recommendation systems, such as your \"Dynamic Popularity\" model. The high concentration of films in the late 1990s and early 2000s means that popularity metrics will be heavily influenced by movies from this era. This could lead to recommendations that predominantly feature films from this period, which might be beneficial for users interested in recent popular releases but less so for those seeking older or very contemporary content."
      ],
      "metadata": {
        "id": "KsxEEPVCyPg0"
      }
    },
    {
      "cell_type": "markdown",
      "source": [
        "Get information about the data types and non-null values"
      ],
      "metadata": {
        "id": "lGvOGGinyJ4F"
      }
    },
    {
      "cell_type": "code",
      "source": [
        "print(\"\\n--- EDA: Ratings DataFrame ---\")\n",
        "print(\"Ratings Info:\")\n",
        "ratings.info()"
      ],
      "metadata": {
        "colab": {
          "base_uri": "https://localhost:8080/"
        },
        "id": "uPqcymDtocub",
        "outputId": "66c6a7b0-114f-4e22-cbf9-1d98ab48c3f4"
      },
      "execution_count": 13,
      "outputs": [
        {
          "output_type": "stream",
          "name": "stdout",
          "text": [
            "\n",
            "--- EDA: Ratings DataFrame ---\n",
            "Ratings Info:\n",
            "<class 'pandas.core.frame.DataFrame'>\n",
            "RangeIndex: 10000054 entries, 0 to 10000053\n",
            "Data columns (total 4 columns):\n",
            " #   Column     Dtype  \n",
            "---  ------     -----  \n",
            " 0   user_id    int64  \n",
            " 1   movie_id   int64  \n",
            " 2   rating     float64\n",
            " 3   timestamp  int64  \n",
            "dtypes: float64(1), int64(3)\n",
            "memory usage: 305.2 MB\n"
          ]
        }
      ]
    },
    {
      "cell_type": "markdown",
      "source": [
        "Get a count of unique ratings"
      ],
      "metadata": {
        "id": "FtGAs9q6ooqZ"
      }
    },
    {
      "cell_type": "code",
      "source": [
        "print(\"\\nNumber of unique users:\", ratings['user_id'].nunique())\n",
        "print(\"Number of unique movies rated:\", ratings['movie_id'].nunique())\n",
        "print(\"Number of total ratings:\", len(ratings))"
      ],
      "metadata": {
        "colab": {
          "base_uri": "https://localhost:8080/"
        },
        "id": "PkOZnfRront_",
        "outputId": "99491e30-2d3b-4f90-c05b-d05cfda4deba"
      },
      "execution_count": 14,
      "outputs": [
        {
          "output_type": "stream",
          "name": "stdout",
          "text": [
            "\n",
            "Number of unique users: 69878\n",
            "Number of unique movies rated: 10677\n",
            "Number of total ratings: 10000054\n"
          ]
        }
      ]
    },
    {
      "cell_type": "markdown",
      "source": [
        "\n",
        "\n",
        "Distribution of Ratings"
      ],
      "metadata": {
        "id": "jsJ1xx2foI8u"
      }
    },
    {
      "cell_type": "code",
      "execution_count": 15,
      "metadata": {
        "colab": {
          "base_uri": "https://localhost:8080/",
          "height": 583
        },
        "id": "1XQxkyljajCb",
        "outputId": "1df90d23-48ff-4bc1-cdc0-ef3782a39d5f"
      },
      "outputs": [
        {
          "output_type": "stream",
          "name": "stderr",
          "text": [
            "/tmp/ipython-input-15-2838763460.py:3: FutureWarning: \n",
            "\n",
            "Passing `palette` without assigning `hue` is deprecated and will be removed in v0.14.0. Assign the `x` variable to `hue` and set `legend=False` for the same effect.\n",
            "\n",
            "  sns.countplot(x='rating', data=ratings, palette='viridis')\n"
          ]
        },
        {
          "output_type": "display_data",
          "data": {
            "text/plain": [
              "<Figure size 800x500 with 1 Axes>"
            ],
            "image/png": "[encoded data removed]"
          },
          "metadata": {}
        }
      ],
      "source": [
        "# Distribusi rating\n",
        "plt.figure(figsize=(8, 5))\n",
        "sns.countplot(x='rating', data=ratings, palette='viridis')\n",
        "plt.title('Distribution of Movie Ratings')\n",
        "plt.xlabel('Rating')\n",
        "plt.ylabel('Count')\n",
        "plt.show()"
      ]
    },
    {
      "cell_type": "markdown",
      "source": [
        "This bar chart illustrates the frequency of different movie ratings within the MovieLens 10M dataset.\n",
        "\n",
        "*Key Observations:*\n",
        "\n",
        "- Predominantly Positive Ratings: The most frequent ratings are 4.0, 3.0, and 5.0 stars, indicating that users tend to give positive feedback.\n",
        "- Preference for Whole Numbers: Whole-star ratings (e.g., 3.0, 4.0, 5.0) are significantly more common than half-star ratings (e.g., 2.5, 3.5, 4.5).\n",
        "- Peak at 4.0 Stars: The 4.0-star rating has the highest count, approaching 3 million instances.\n",
        "\n",
        "**Implications for Recommendation Systems:**\n",
        "This distribution suggests that the dataset contains more information on what users like rather than what they dislike. This pattern supports the strategy of defining a \"liked\" movie as one rated 4 stars or higher for evaluation purposes, as this clearly represents a common positive interaction. This bias towards positive ratings can influence models to prioritize recommending items that have received high scores."
      ],
      "metadata": {
        "id": "m5PJai6nyrop"
      }
    },
    {
      "cell_type": "markdown",
      "source": [
        "Distribution of ratings per user"
      ],
      "metadata": {
        "id": "ZYKs7FrIzDxS"
      }
    },
    {
      "cell_type": "code",
      "source": [
        "ratings_per_user = ratings.groupby('user_id')['rating'].count()\n",
        "plt.figure(figsize=(10, 6))\n",
        "sns.histplot(ratings_per_user, bins=50, kde=True)\n",
        "plt.title('Distribution of Ratings per User')\n",
        "plt.xlabel('Number of Ratings')\n",
        "plt.ylabel('Number of Users')\n",
        "plt.yscale('log') # Skala logaritmik karena distribusi cenderung skew\n",
        "plt.show()"
      ],
      "metadata": {
        "colab": {
          "base_uri": "https://localhost:8080/",
          "height": 573
        },
        "id": "C7p05kSGpRSJ",
        "outputId": "2e69ca89-6217-403b-88f4-1ede192986e9"
      },
      "execution_count": 16,
      "outputs": [
        {
          "output_type": "display_data",
          "data": {
            "text/plain": [
              "<Figure size 1000x600 with 1 Axes>"
            ],
            "image/png": "[encoded data removed]"
          },
          "metadata": {}
        }
      ]
    },
    {
      "cell_type": "markdown",
      "source": [
        "This bar chart, titled \"Distribution of Ratings per User,\" illustrates how many ratings each user has submitted in the MovieLens 10M dataset. The y-axis is on a logarithmic scale, which helps visualize the wide range of user activity.\n",
        "\n",
        "*Key Observations:*\n",
        "\n",
        "- Highly Skewed Distribution: The distribution is extremely skewed, with a vast majority of users having submitted a very small number of ratings (concentrated on the left side of the chart).\n",
        "- Long Tail of Active Users: Despite the large number of inactive users, there's a long \"tail\" extending to the right, indicating a small number of highly active users who have submitted thousands of ratings. The logarithmic scale effectively highlights these less frequent, but highly significant, users.\n",
        "- Sparse Interaction Data: The shape of this distribution confirms that the user-item interaction matrix is likely very sparse, meaning most users have only rated a small fraction of the total movies available.\n",
        "\n",
        "**Implications for Recommendation Systems:**\n",
        "This distribution directly impacts Collaborative Filtering models. The presence of highly active users provides rich data for identifying patterns, while the large number of infrequent users contributes to the \"cold-start\" problem and data sparsity challenges. Models need to be robust enough to handle this imbalance, leveraging data from active users while still providing meaningful recommendations for less active ones."
      ],
      "metadata": {
        "id": "iCnxNASPzkL6"
      }
    },
    {
      "cell_type": "markdown",
      "source": [
        "Distribution of ratings per movie"
      ],
      "metadata": {
        "id": "mZEiDgXOzYcC"
      }
    },
    {
      "cell_type": "code",
      "source": [
        "ratings_per_movie = ratings.groupby('movie_id')['rating'].count()\n",
        "plt.figure(figsize=(10, 6))\n",
        "sns.histplot(ratings_per_movie, bins=50, kde=True)\n",
        "plt.title('Distribution of Ratings per Movie')\n",
        "plt.xlabel('Number of Ratings')\n",
        "plt.ylabel('Number of Movies')\n",
        "plt.yscale('log') # Skala logaritmik\n",
        "plt.show()"
      ],
      "metadata": {
        "colab": {
          "base_uri": "https://localhost:8080/",
          "height": 573
        },
        "id": "EGpQRYvVpW1K",
        "outputId": "924654e0-c60f-4a1a-9dd7-ad029007f601"
      },
      "execution_count": 17,
      "outputs": [
        {
          "output_type": "display_data",
          "data": {
            "text/plain": [
              "<Figure size 1000x600 with 1 Axes>"
            ],
            "image/png": "[encoded data removed]"
          },
          "metadata": {}
        }
      ]
    },
    {
      "cell_type": "markdown",
      "source": [
        "This bar chart, titled \"Distribution of Ratings per Movie,\" illustrates the frequency of ratings received by each movie in the MovieLens 10M dataset. The y-axis is on a logarithmic scale to better represent the wide range of rating counts.\n",
        "\n",
        "*Key Observations:*\n",
        "\n",
        "- Highly Skewed Distribution: The distribution is heavily skewed, with a large number of movies receiving very few ratings (concentrated on the left side of the chart). This indicates that most movies in the dataset are relatively unpopular.\n",
        "- \"Long Tail\" of Popular Movies: Conversely, there's a \"long tail\" extending to the right, representing a smaller number of highly popular movies that have accumulated tens of thousands of ratings. The logarithmic scale makes these more visible.\n",
        "- Item Cold-Start: This distribution highlights the \"item cold-start problem,\" where new or less popular movies have insufficient rating data to generate effective recommendations.\n",
        "\n",
        "**Implications for Recommendation Systems:**\n",
        "This skewed distribution significantly affects the performance of collaborative filtering models. Models may exhibit a 'popularity bias', tending to recommend well-known movies more frequently due to the abundant rating data available for them. While this is good for mainstream users, it can limit the discoverability of niche content. This underscores the challenge of balancing recommendations between popular and less popular items."
      ],
      "metadata": {
        "id": "1njEqzrP0NU2"
      }
    },
    {
      "cell_type": "markdown",
      "source": [
        "Distribution of timestamps (interactions over time)"
      ],
      "metadata": {
        "id": "kjeEZ9DfzWLv"
      }
    },
    {
      "cell_type": "code",
      "source": [
        "ratings['datetime'] = pd.to_datetime(ratings['timestamp'], unit='s')\n",
        "plt.figure(figsize=(15, 6))\n",
        "ratings['datetime'].dt.year.value_counts().sort_index().plot(kind='bar')\n",
        "plt.title('Number of Ratings Over Years')\n",
        "plt.xlabel('Year')\n",
        "plt.ylabel('Number of Ratings')\n",
        "plt.grid(axis='y')\n",
        "plt.show()\n",
        "ratings.drop('datetime', axis=1, inplace=True)"
      ],
      "metadata": {
        "colab": {
          "base_uri": "https://localhost:8080/",
          "height": 596
        },
        "id": "mj_IjeUIpfKb",
        "outputId": "e89844af-c542-43f8-ec78-c5e8d1e0b04e"
      },
      "execution_count": 18,
      "outputs": [
        {
          "output_type": "display_data",
          "data": {
            "text/plain": [
              "<Figure size 1500x600 with 1 Axes>"
            ],
            "image/png": "[encoded data removed]"
          },
          "metadata": {}
        }
      ]
    },
    {
      "cell_type": "markdown",
      "source": [
        "This bar chart, titled \"Number of Ratings Over Years,\" illustrates the distribution of ratings across different years in the MovieLens 10M dataset.\n",
        "\n",
        "*Key Observations:*\n",
        "\n",
        "- Active Period: The dataset primarily captures user activity between 1995 and 2008.\n",
        "- Peak Activity: There are notable peaks in rating activity around 1996, 2000, and 2005, indicating periods of intense user engagement or data collection.\n",
        "- Fluctuating Engagement: While generally high, the number of ratings per year fluctuates significantly, suggesting varying levels of user activity or data accumulation over time.\n",
        "- Limited Recent Data: There's a sharp drop-off in ratings in 2009, with virtually no data beyond that year, indicating the dataset's cutoff point.\n",
        "\n",
        "**Implications for Recommendation Systems:**\n",
        "This temporal distribution is critical for understanding the relevancy of \"dynamic popularity\" models. The concentration of ratings in specific periods means that popularity metrics will reflect user preferences predominantly from those years. This could lead to recommendations that favor older, well-established popular movies rather than very recent ones, which is a key consideration for systems aiming to capture current trends or address the \"cold-start\" problem for new content."
      ],
      "metadata": {
        "id": "56DdKs-q0kD9"
      }
    },
    {
      "cell_type": "markdown",
      "source": [
        "## Data Preprocessing"
      ],
      "metadata": {
        "id": "dcap2jn550rp"
      }
    },
    {
      "cell_type": "markdown",
      "source": [
        "Merge the ratings_sample data with movies (join key is 'movie_id')"
      ],
      "metadata": {
        "id": "ADx_e0l41FT2"
      }
    },
    {
      "cell_type": "code",
      "source": [
        "df = pd.merge(ratings, movies, on='movie_id')"
      ],
      "metadata": {
        "id": "8kJSzd1o08te"
      },
      "execution_count": 19,
      "outputs": []
    },
    {
      "cell_type": "markdown",
      "source": [
        "Preprocessing for Content-Based Filtering (TF-IDF on Titles)"
      ],
      "metadata": {
        "id": "6mbgRKCu1XmM"
      }
    },
    {
      "cell_type": "code",
      "source": [
        "movies['clean_title'] = movies['title'].str.replace(r'\\s*\\(\\d{4}\\)', '', regex=True).str.strip()\n",
        "print(\"\\nMovies DataFrame with Cleaned Title for Content-Based:\")\n",
        "movies.head()"
      ],
      "metadata": {
        "colab": {
          "base_uri": "https://localhost:8080/",
          "height": 241
        },
        "id": "gV_XDnHv08l3",
        "outputId": "18320da4-e5c5-4a6e-9522-39a3f94c967b"
      },
      "execution_count": 20,
      "outputs": [
        {
          "output_type": "stream",
          "name": "stdout",
          "text": [
            "\n",
            "Movies DataFrame with Cleaned Title for Content-Based:\n"
          ]
        },
        {
          "output_type": "execute_result",
          "data": {
            "text/plain": [
              "   movie_id                               title  \\\n",
              "0         1                    Toy Story (1995)   \n",
              "1         2                      Jumanji (1995)   \n",
              "2         3             Grumpier Old Men (1995)   \n",
              "3         4            Waiting to Exhale (1995)   \n",
              "4         5  Father of the Bride Part II (1995)   \n",
              "\n",
              "                                        genres                  clean_title  \n",
              "0  Adventure|Animation|Children|Comedy|Fantasy                    Toy Story  \n",
              "1                   Adventure|Children|Fantasy                      Jumanji  \n",
              "2                               Comedy|Romance             Grumpier Old Men  \n",
              "3                         Comedy|Drama|Romance            Waiting to Exhale  \n",
              "4                                       Comedy  Father of the Bride Part II  "
            ],
            "text/html": [
              "\n",
              "  <div id=\"df-c4f81ded-6ecb-44ee-88c9-e9813e758608\" class=\"colab-df-container\">\n",
              "    <div>\n",
              "<style scoped>\n",
              "    .dataframe tbody tr th:only-of-type {\n",
              "        vertical-align: middle;\n",
              "    }\n",
              "\n",
              "    .dataframe tbody tr th {\n",
              "        vertical-align: top;\n",
              "    }\n",
              "\n",
              "    .dataframe thead th {\n",
              "        text-align: right;\n",
              "    }\n",
              "</style>\n",
              "<table border=\"1\" class=\"dataframe\">\n",
              "  <thead>\n",
              "    <tr style=\"text-align: right;\">\n",
              "      <th></th>\n",
              "      <th>movie_id</th>\n",
              "      <th>title</th>\n",
              "      <th>genres</th>\n",
              "      <th>clean_title</th>\n",
              "    </tr>\n",
              "  </thead>\n",
              "  <tbody>\n",
              "    <tr>\n",
              "      <th>0</th>\n",
              "      <td>1</td>\n",
              "      <td>Toy Story (1995)</td>\n",
              "      <td>Adventure|Animation|Children|Comedy|Fantasy</td>\n",
              "      <td>Toy Story</td>\n",
              "    </tr>\n",
              "    <tr>\n",
              "      <th>1</th>\n",
              "      <td>2</td>\n",
              "      <td>Jumanji (1995)</td>\n",
              "      <td>Adventure|Children|Fantasy</td>\n",
              "      <td>Jumanji</td>\n",
              "    </tr>\n",
              "    <tr>\n",
              "      <th>2</th>\n",
              "      <td>3</td>\n",
              "      <td>Grumpier Old Men (1995)</td>\n",
              "      <td>Comedy|Romance</td>\n",
              "      <td>Grumpier Old Men</td>\n",
              "    </tr>\n",
              "    <tr>\n",
              "      <th>3</th>\n",
              "      <td>4</td>\n",
              "      <td>Waiting to Exhale (1995)</td>\n",
              "      <td>Comedy|Drama|Romance</td>\n",
              "      <td>Waiting to Exhale</td>\n",
              "    </tr>\n",
              "    <tr>\n",
              "      <th>4</th>\n",
              "      <td>5</td>\n",
              "      <td>Father of the Bride Part II (1995)</td>\n",
              "      <td>Comedy</td>\n",
              "      <td>Father of the Bride Part II</td>\n",
              "    </tr>\n",
              "  </tbody>\n",
              "</table>\n",
              "</div>\n",
              "    <div class=\"colab-df-buttons\">\n",
              "\n",
              "  <div class=\"colab-df-container\">\n",
              "    <button class=\"colab-df-convert\" onclick=\"convertToInteractive('df-c4f81ded-6ecb-44ee-88c9-e9813e758608')\"\n",
              "            title=\"Convert this dataframe to an interactive table.\"\n",
              "            style=\"display:none;\">\n",
              "\n",
              "  <svg xmlns=\"http://www.w3.org/2000/svg\" height=\"24px\" viewBox=\"0 -960 960 960\">\n",
              "    <path d=\"M120-120v-720h720v720H120Zm60-500h600v-160H180v160Zm220 220h160v-160H400v160Zm0 220h160v-160H400v160ZM180-400h160v-160H180v160Zm440 0h160v-160H620v160ZM180-180h160v-160H180v160Zm440 0h160v-160H620v160Z\"/>\n",
              "  </svg>\n",
              "    </button>\n",
              "\n",
              "  <style>\n",
              "    .colab-df-container {\n",
              "      display:flex;\n",
              "      gap: 12px;\n",
              "    }\n",
              "\n",
              "    .colab-df-convert {\n",
              "      background-color: #E8F0FE;\n",
              "      border: none;\n",
              "      border-radius: 50%;\n",
              "      cursor: pointer;\n",
              "      display: none;\n",
              "      fill: #1967D2;\n",
              "      height: 32px;\n",
              "      padding: 0 0 0 0;\n",
              "      width: 32px;\n",
              "    }\n",
              "\n",
              "    .colab-df-convert:hover {\n",
              "      background-color: #E2EBFA;\n",
              "      box-shadow: 0px 1px 2px rgba(60, 64, 67, 0.3), 0px 1px 3px 1px rgba(60, 64, 67, 0.15);\n",
              "      fill: #174EA6;\n",
              "    }\n",
              "\n",
              "    .colab-df-buttons div {\n",
              "      margin-bottom: 4px;\n",
              "    }\n",
              "\n",
              "    [theme=dark] .colab-df-convert {\n",
              "      background-color: #3B4455;\n",
              "      fill: #D2E3FC;\n",
              "    }\n",
              "\n",
              "    [theme=dark] .colab-df-convert:hover {\n",
              "      background-color: #434B5C;\n",
              "      box-shadow: 0px 1px 3px 1px rgba(0, 0, 0, 0.15);\n",
              "      filter: drop-shadow(0px 1px 2px rgba(0, 0, 0, 0.3));\n",
              "      fill: #FFFFFF;\n",
              "    }\n",
              "  </style>\n",
              "\n",
              "    <script>\n",
              "      const buttonEl =\n",
              "        document.querySelector('#df-c4f81ded-6ecb-44ee-88c9-e9813e758608 button.colab-df-convert');\n",
              "      buttonEl.style.display =\n",
              "        google.colab.kernel.accessAllowed ? 'block' : 'none';\n",
              "\n",
              "      async function convertToInteractive(key) {\n",
              "        const element = document.querySelector('#df-c4f81ded-6ecb-44ee-88c9-e9813e758608');\n",
              "        const dataTable =\n",
              "          await google.colab.kernel.invokeFunction('convertToInteractive',\n",
              "                                                    [key], {});\n",
              "        if (!dataTable) return;\n",
              "\n",
              "        const docLinkHtml = 'Like what you see? Visit the ' +\n",
              "          '<a target=\"_blank\" href=https://colab.research.google.com/notebooks/data_table.ipynb>data table notebook</a>'\n",
              "          + ' to learn more about interactive tables.';\n",
              "        element.innerHTML = '';\n",
              "        dataTable['output_type'] = 'display_data';\n",
              "        await google.colab.output.renderOutput(dataTable, element);\n",
              "        const docLink = document.createElement('div');\n",
              "        docLink.innerHTML = docLinkHtml;\n",
              "        element.appendChild(docLink);\n",
              "      }\n",
              "    </script>\n",
              "  </div>\n",
              "\n",
              "\n",
              "    <div id=\"df-ad763fef-d337-4933-80b2-6d0a6af513de\">\n",
              "      <button class=\"colab-df-quickchart\" onclick=\"quickchart('df-ad763fef-d337-4933-80b2-6d0a6af513de')\"\n",
              "                title=\"Suggest charts\"\n",
              "                style=\"display:none;\">\n",
              "\n",
              "<svg xmlns=\"http://www.w3.org/2000/svg\" height=\"24px\"viewBox=\"0 0 24 24\"\n",
              "     width=\"24px\">\n",
              "    <g>\n",
              "        <path d=\"M19 3H5c-1.1 0-2 .9-2 2v14c0 1.1.9 2 2 2h14c1.1 0 2-.9 2-2V5c0-1.1-.9-2-2-2zM9 17H7v-7h2v7zm4 0h-2V7h2v10zm4 0h-2v-4h2v4z\"/>\n",
              "    </g>\n",
              "</svg>\n",
              "      </button>\n",
              "\n",
              "<style>\n",
              "  .colab-df-quickchart {\n",
              "      --bg-color: #E8F0FE;\n",
              "      --fill-color: #1967D2;\n",
              "      --hover-bg-color: #E2EBFA;\n",
              "      --hover-fill-color: #174EA6;\n",
              "      --disabled-fill-color: #AAA;\n",
              "      --disabled-bg-color: #DDD;\n",
              "  }\n",
              "\n",
              "  [theme=dark] .colab-df-quickchart {\n",
              "      --bg-color: #3B4455;\n",
              "      --fill-color: #D2E3FC;\n",
              "      --hover-bg-color: #434B5C;\n",
              "      --hover-fill-color: #FFFFFF;\n",
              "      --disabled-bg-color: #3B4455;\n",
              "      --disabled-fill-color: #666;\n",
              "  }\n",
              "\n",
              "  .colab-df-quickchart {\n",
              "    background-color: var(--bg-color);\n",
              "    border: none;\n",
              "    border-radius: 50%;\n",
              "    cursor: pointer;\n",
              "    display: none;\n",
              "    fill: var(--fill-color);\n",
              "    height: 32px;\n",
              "    padding: 0;\n",
              "    width: 32px;\n",
              "  }\n",
              "\n",
              "  .colab-df-quickchart:hover {\n",
              "    background-color: var(--hover-bg-color);\n",
              "    box-shadow: 0 1px 2px rgba(60, 64, 67, 0.3), 0 1px 3px 1px rgba(60, 64, 67, 0.15);\n",
              "    fill: var(--button-hover-fill-color);\n",
              "  }\n",
              "\n",
              "  .colab-df-quickchart-complete:disabled,\n",
              "  .colab-df-quickchart-complete:disabled:hover {\n",
              "    background-color: var(--disabled-bg-color);\n",
              "    fill: var(--disabled-fill-color);\n",
              "    box-shadow: none;\n",
              "  }\n",
              "\n",
              "  .colab-df-spinner {\n",
              "    border: 2px solid var(--fill-color);\n",
              "    border-color: transparent;\n",
              "    border-bottom-color: var(--fill-color);\n",
              "    animation:\n",
              "      spin 1s steps(1) infinite;\n",
              "  }\n",
              "\n",
              "  @keyframes spin {\n",
              "    0% {\n",
              "      border-color: transparent;\n",
              "      border-bottom-color: var(--fill-color);\n",
              "      border-left-color: var(--fill-color);\n",
              "    }\n",
              "    20% {\n",
              "      border-color: transparent;\n",
              "      border-left-color: var(--fill-color);\n",
              "      border-top-color: var(--fill-color);\n",
              "    }\n",
              "    30% {\n",
              "      border-color: transparent;\n",
              "      border-left-color: var(--fill-color);\n",
              "      border-top-color: var(--fill-color);\n",
              "      border-right-color: var(--fill-color);\n",
              "    }\n",
              "    40% {\n",
              "      border-color: transparent;\n",
              "      border-right-color: var(--fill-color);\n",
              "      border-top-color: var(--fill-color);\n",
              "    }\n",
              "    60% {\n",
              "      border-color: transparent;\n",
              "      border-right-color: var(--fill-color);\n",
              "    }\n",
              "    80% {\n",
              "      border-color: transparent;\n",
              "      border-right-color: var(--fill-color);\n",
              "      border-bottom-color: var(--fill-color);\n",
              "    }\n",
              "    90% {\n",
              "      border-color: transparent;\n",
              "      border-bottom-color: var(--fill-color);\n",
              "    }\n",
              "  }\n",
              "</style>\n",
              "\n",
              "      <script>\n",
              "        async function quickchart(key) {\n",
              "          const quickchartButtonEl =\n",
              "            document.querySelector('#' + key + ' button');\n",
              "          quickchartButtonEl.disabled = true;  // To prevent multiple clicks.\n",
              "          quickchartButtonEl.classList.add('colab-df-spinner');\n",
              "          try {\n",
              "            const charts = await google.colab.kernel.invokeFunction(\n",
              "                'suggestCharts', [key], {});\n",
              "          } catch (error) {\n",
              "            console.error('Error during call to suggestCharts:', error);\n",
              "          }\n",
              "          quickchartButtonEl.classList.remove('colab-df-spinner');\n",
              "          quickchartButtonEl.classList.add('colab-df-quickchart-complete');\n",
              "        }\n",
              "        (() => {\n",
              "          let quickchartButtonEl =\n",
              "            document.querySelector('#df-ad763fef-d337-4933-80b2-6d0a6af513de button');\n",
              "          quickchartButtonEl.style.display =\n",
              "            google.colab.kernel.accessAllowed ? 'block' : 'none';\n",
              "        })();\n",
              "      </script>\n",
              "    </div>\n",
              "\n",
              "    </div>\n",
              "  </div>\n"
            ],
            "application/vnd.google.colaboratory.intrinsic+json": {
              "type": "dataframe",
              "variable_name": "movies",
              "summary": "{\n  \"name\": \"movies\",\n  \"rows\": 10681,\n  \"fields\": [\n    {\n      \"column\": \"movie_id\",\n      \"properties\": {\n        \"dtype\": \"number\",\n        \"std\": 17808,\n        \"min\": 1,\n        \"max\": 65133,\n        \"num_unique_values\": 10681,\n        \"samples\": [\n          4924,\n          3862,\n          1574\n        ],\n        \"semantic_type\": \"\",\n        \"description\": \"\"\n      }\n    },\n    {\n      \"column\": \"title\",\n      \"properties\": {\n        \"dtype\": \"string\",\n        \"num_unique_values\": 10680,\n        \"samples\": [\n          \"Before the Devil Knows You're Dead (2007)\",\n          \"Fisher King, The (1991)\",\n          \"Sixty Six (2006)\"\n        ],\n        \"semantic_type\": \"\",\n        \"description\": \"\"\n      }\n    },\n    {\n      \"column\": \"genres\",\n      \"properties\": {\n        \"dtype\": \"category\",\n        \"num_unique_values\": 797,\n        \"samples\": [\n          \"Comedy|Drama|Horror|Sci-Fi|Thriller\",\n          \"Comedy|Drama|Film-Noir\",\n          \"Comedy|Crime|Drama\"\n        ],\n        \"semantic_type\": \"\",\n        \"description\": \"\"\n      }\n    },\n    {\n      \"column\": \"clean_title\",\n      \"properties\": {\n        \"dtype\": \"string\",\n        \"num_unique_values\": 10411,\n        \"samples\": [\n          \"Sherlock Holmes: The Woman in Green\",\n          \"Once Upon a Forest\",\n          \"Pure\"\n        ],\n        \"semantic_type\": \"\",\n        \"description\": \"\"\n      }\n    }\n  ]\n}"
            }
          },
          "metadata": {},
          "execution_count": 20
        }
      ]
    },
    {
      "cell_type": "markdown",
      "source": [
        "Preprocessing for Collaborative Filtering (Dynamic Popularity)"
      ],
      "metadata": {
        "id": "iVJUS-0z1ZWu"
      }
    },
    {
      "cell_type": "code",
      "source": [
        "df['timestamp'] = pd.to_datetime(df['timestamp'], unit='s')\n",
        "print(\"\\nCombined DataFrame with Datetime Timestamp:\")\n",
        "print(df.head())\n",
        "print(f\"\\nData covers from {df['timestamp'].min()} to {df['timestamp'].max()}\")"
      ],
      "metadata": {
        "colab": {
          "base_uri": "https://localhost:8080/"
        },
        "id": "oF7lFP4j08YN",
        "outputId": "9e7b30c3-2e33-4c6f-da4f-e15cbeb66e73"
      },
      "execution_count": 21,
      "outputs": [
        {
          "output_type": "stream",
          "name": "stdout",
          "text": [
            "\n",
            "Combined DataFrame with Datetime Timestamp:\n",
            "   user_id  movie_id  rating           timestamp                 title  \\\n",
            "0        1       122     5.0 1996-08-02 11:24:06      Boomerang (1992)   \n",
            "1        1       185     5.0 1996-08-02 10:58:45       Net, The (1995)   \n",
            "2        1       231     5.0 1996-08-02 10:56:32  Dumb & Dumber (1994)   \n",
            "3        1       292     5.0 1996-08-02 10:57:01       Outbreak (1995)   \n",
            "4        1       316     5.0 1996-08-02 10:56:32       Stargate (1994)   \n",
            "\n",
            "                         genres  \n",
            "0                Comedy|Romance  \n",
            "1         Action|Crime|Thriller  \n",
            "2                        Comedy  \n",
            "3  Action|Drama|Sci-Fi|Thriller  \n",
            "4       Action|Adventure|Sci-Fi  \n",
            "\n",
            "Data covers from 1995-01-09 11:46:49 to 2009-01-05 05:02:16\n"
          ]
        }
      ]
    },
    {
      "cell_type": "markdown",
      "source": [
        "These preprocessing steps strategically prepare the MovieLens 10M dataset for our two distinct recommendation models.\n",
        "\n",
        "First, the `ratings` and `movies` DataFrames are merged into a single `df` on `movie_id`, consolidating all relevant information.\n",
        "\n",
        "**For Content-Based Filtering (TF-IDF on Titles):**\n",
        "The `title` column in `movies` is transformed into `clean_title` by removing the release year. This ensures that our TF-IDF analysis focuses solely on descriptive keywords within the title, capturing thematic similarities rather than temporal ones, which is a key novelty of this approach.\n",
        "\n",
        "**For Collaborative Filtering (Dynamic Popularity):**\n",
        "The `timestamp` column in `df` is converted to datetime objects. This is crucial for the \"Dynamic Popularity\" model, enabling time-based analysis of user interactions. Unlike traditional SVD (which often discards timestamps), this conversion allows the model to identify and recommend movies based on recent trends and popularity shifts, providing a distinct advantage for current relevance. The data spans a specific range, indicating its readiness for temporal analysis."
      ],
      "metadata": {
        "id": "HCW9f-OQ0Fxy"
      }
    },
    {
      "cell_type": "markdown",
      "source": [
        "Data Splitting\n",
        "\n",
        " We split the data into training and test sets."
      ],
      "metadata": {
        "id": "xzlDfN0Z_sQR"
      }
    },
    {
      "cell_type": "code",
      "source": [
        "from sklearn.model_selection import train_test_split\n",
        "\n",
        "train_df, test_df = train_test_split(df, test_size=0.2, random_state=42)\n",
        "\n",
        "print(f\"\\nTraining data size: {len(train_df)}\")\n",
        "print(f\"Test data size: {len(test_df)}\")"
      ],
      "metadata": {
        "colab": {
          "base_uri": "https://localhost:8080/"
        },
        "id": "WahpxiNU_zVd",
        "outputId": "70616735-f167-4a32-c49e-fd9409bd3642"
      },
      "execution_count": 22,
      "outputs": [
        {
          "output_type": "stream",
          "name": "stdout",
          "text": [
            "\n",
            "Training data size: 8000043\n",
            "Test data size: 2000011\n"
          ]
        }
      ]
    },
    {
      "cell_type": "markdown",
      "source": [
        "## Content Based Filtering"
      ],
      "metadata": {
        "id": "txLI0lGI6JbF"
      }
    },
    {
      "cell_type": "markdown",
      "source": [
        "### Modelling"
      ],
      "metadata": {
        "id": "vM6YPqeU6c1e"
      }
    },
    {
      "cell_type": "markdown",
      "source": [
        "Replace '|' with a space"
      ],
      "metadata": {
        "id": "P7Z8wr_r41c_"
      }
    },
    {
      "cell_type": "code",
      "source": [
        "movies['genres'] = movies['genres'].str.replace('|', ' ', regex=False)"
      ],
      "metadata": {
        "id": "O_uUCEp24v2s"
      },
      "execution_count": 23,
      "outputs": []
    },
    {
      "cell_type": "markdown",
      "source": [
        "Create TF-IDF and Cosine Similarity (logic remains the same)"
      ],
      "metadata": {
        "id": "yYeYLSAl5eL2"
      }
    },
    {
      "cell_type": "code",
      "source": [
        "tfidf_vectorizer = TfidfVectorizer(stop_words='english', min_df=3)\n",
        "tfidf_matrix = tfidf_vectorizer.fit_transform(movies['clean_title'].fillna(''))\n",
        "cosine_sim = linear_kernel(tfidf_matrix, tfidf_matrix)\n",
        "\n",
        "print(f\"\\nShape of TF-IDF Matrix: {tfidf_matrix.shape}\")\n",
        "print(f\"\\nShape of Cosine Similarity Matrix: {cosine_sim.shape}\")"
      ],
      "metadata": {
        "colab": {
          "base_uri": "https://localhost:8080/"
        },
        "id": "XZLZD20A5Hx-",
        "outputId": "fc2a2422-95aa-43a7-8872-dff85eefa8a0"
      },
      "execution_count": 24,
      "outputs": [
        {
          "output_type": "stream",
          "name": "stdout",
          "text": [
            "\n",
            "Shape of TF-IDF Matrix: (10681, 1843)\n",
            "\n",
            "Shape of Cosine Similarity Matrix: (10681, 10681)\n"
          ]
        }
      ]
    },
    {
      "cell_type": "markdown",
      "source": [
        "Create a mapping from movie_id to the DataFrame index"
      ],
      "metadata": {
        "id": "IqRjuLov5t6w"
      }
    },
    {
      "cell_type": "code",
      "source": [
        "movie_id_to_index = {movie_id: i for i, movie_id in enumerate(movies['movie_id'])}\n",
        "index_to_movie_id = {i: movie_id for i, movie_id in enumerate(movies['movie_id'])}"
      ],
      "metadata": {
        "id": "Un0dH61e5Htu"
      },
      "execution_count": 25,
      "outputs": []
    },
    {
      "cell_type": "markdown",
      "source": [
        "Function to get recommendations (content based)"
      ],
      "metadata": {
        "id": "QUoqBfyw6FV1"
      }
    },
    {
      "cell_type": "code",
      "source": [
        "def get_content_based_recommendations(movie_title, cosine_sim_matrix=cosine_sim, df_movies=movies, num_recommendations=10):\n",
        "    # Pastikan judul film yang dicari ada di dataset\n",
        "    if movie_title not in df_movies['title'].values:\n",
        "        print(f\"Film '{movie_title}' tidak ditemukan dalam dataset.\")\n",
        "        return pd.DataFrame() # Mengembalikan DataFrame kosong jika tidak ditemukan\n",
        "\n",
        "    # Dapatkan indeks film dari judul\n",
        "    idx = df_movies[df_movies['title'] == movie_title].index[0]\n",
        "    movie_id_target = df_movies.loc[idx, 'movie_id']\n",
        "\n",
        "    # Dapatkan skor kemiripan film tersebut dengan semua film lain\n",
        "    sim_scores = list(enumerate(cosine_sim_matrix[idx]))\n",
        "\n",
        "    # Urutkan film berdasarkan skor kemiripan\n",
        "    sim_scores = sorted(sim_scores, key=lambda x: x[1], reverse=True)\n",
        "\n",
        "    # Dapatkan skor dari 10 film teratas (kecuali film itu sendiri)\n",
        "    sim_scores = sim_scores[1:num_recommendations+1] # Skip the first one as it's the movie itself\n",
        "\n",
        "    # Dapatkan indeks film\n",
        "    movie_indices = [i[0] for i in sim_scores]\n",
        "\n",
        "    # Dapatkan movie_id dari indeks\n",
        "    recommended_movie_ids = [df_movies.loc[i, 'movie_id'] for i in movie_indices]\n",
        "\n",
        "    # Dapatkan judul film yang direkomendasikan\n",
        "    recommended_movies = df_movies[df_movies['movie_id'].isin(recommended_movie_ids)]\n",
        "\n",
        "    print(f\"\\n--- Content-Based Recommendations for '{movie_title}' ---\")\n",
        "    return recommended_movies[['title', 'genres', 'clean_title']]"
      ],
      "metadata": {
        "id": "N4dYTtgl5Hpb"
      },
      "execution_count": 26,
      "outputs": []
    },
    {
      "cell_type": "markdown",
      "source": [
        "### Get Recomendations"
      ],
      "metadata": {
        "id": "LRrW2qki7Xy-"
      }
    },
    {
      "cell_type": "code",
      "source": [
        "example_movie = \"Toy Story (1995)\"\n",
        "content_recs = get_content_based_recommendations(example_movie)\n",
        "content_recs"
      ],
      "metadata": {
        "colab": {
          "base_uri": "https://localhost:8080/",
          "height": 397
        },
        "id": "TtnqxxHu5HZb",
        "outputId": "77e06307-dcd1-4cb2-e075-f201644c9261"
      },
      "execution_count": 27,
      "outputs": [
        {
          "output_type": "stream",
          "name": "stdout",
          "text": [
            "\n",
            "--- Content-Based Recommendations for 'Toy Story (1995)' ---\n"
          ]
        },
        {
          "output_type": "execute_result",
          "data": {
            "text/plain": [
              "                                      title  \\\n",
              "2024                      L.A. Story (1991)   \n",
              "2190                  Lilian's Story (1995)   \n",
              "2876                Story of Us, The (1999)   \n",
              "3029                     Toy Story 2 (1999)   \n",
              "3196        Brandon Teena Story, The (1998)   \n",
              "3314  We're Back! A Dinosaur's Story (1993)   \n",
              "4835                        Toy, The (1982)   \n",
              "5395          Eddy Duchin Story, The (1956)   \n",
              "5745                    Toy Soldiers (1991)   \n",
              "5884  Story of O, The (Histoire d'O) (1975)   \n",
              "\n",
              "                                           genres  \\\n",
              "2024                               Comedy Romance   \n",
              "2190                                        Drama   \n",
              "2876                                 Comedy Drama   \n",
              "3029  Adventure Animation Children Comedy Fantasy   \n",
              "3196                                  Documentary   \n",
              "3314         Adventure Animation Children Fantasy   \n",
              "4835                                       Comedy   \n",
              "5395                                Drama Musical   \n",
              "5745                                 Action Drama   \n",
              "5884                                Drama Romance   \n",
              "\n",
              "                         clean_title  \n",
              "2024                      L.A. Story  \n",
              "2190                  Lilian's Story  \n",
              "2876                Story of Us, The  \n",
              "3029                     Toy Story 2  \n",
              "3196        Brandon Teena Story, The  \n",
              "3314  We're Back! A Dinosaur's Story  \n",
              "4835                        Toy, The  \n",
              "5395          Eddy Duchin Story, The  \n",
              "5745                    Toy Soldiers  \n",
              "5884  Story of O, The (Histoire d'O)  "
            ],
            "text/html": [
              "\n",
              "  <div id=\"df-7d207a1d-8653-4ecb-b93d-f3b6f695b6b8\" class=\"colab-df-container\">\n",
              "    <div>\n",
              "<style scoped>\n",
              "    .dataframe tbody tr th:only-of-type {\n",
              "        vertical-align: middle;\n",
              "    }\n",
              "\n",
              "    .dataframe tbody tr th {\n",
              "        vertical-align: top;\n",
              "    }\n",
              "\n",
              "    .dataframe thead th {\n",
              "        text-align: right;\n",
              "    }\n",
              "</style>\n",
              "<table border=\"1\" class=\"dataframe\">\n",
              "  <thead>\n",
              "    <tr style=\"text-align: right;\">\n",
              "      <th></th>\n",
              "      <th>title</th>\n",
              "      <th>genres</th>\n",
              "      <th>clean_title</th>\n",
              "    </tr>\n",
              "  </thead>\n",
              "  <tbody>\n",
              "    <tr>\n",
              "      <th>2024</th>\n",
              "      <td>L.A. Story (1991)</td>\n",
              "      <td>Comedy Romance</td>\n",
              "      <td>L.A. Story</td>\n",
              "    </tr>\n",
              "    <tr>\n",
              "      <th>2190</th>\n",
              "      <td>Lilian's Story (1995)</td>\n",
              "      <td>Drama</td>\n",
              "      <td>Lilian's Story</td>\n",
              "    </tr>\n",
              "    <tr>\n",
              "      <th>2876</th>\n",
              "      <td>Story of Us, The (1999)</td>\n",
              "      <td>Comedy Drama</td>\n",
              "      <td>Story of Us, The</td>\n",
              "    </tr>\n",
              "    <tr>\n",
              "      <th>3029</th>\n",
              "      <td>Toy Story 2 (1999)</td>\n",
              "      <td>Adventure Animation Children Comedy Fantasy</td>\n",
              "      <td>Toy Story 2</td>\n",
              "    </tr>\n",
              "    <tr>\n",
              "      <th>3196</th>\n",
              "      <td>Brandon Teena Story, The (1998)</td>\n",
              "      <td>Documentary</td>\n",
              "      <td>Brandon Teena Story, The</td>\n",
              "    </tr>\n",
              "    <tr>\n",
              "      <th>3314</th>\n",
              "      <td>We're Back! A Dinosaur's Story (1993)</td>\n",
              "      <td>Adventure Animation Children Fantasy</td>\n",
              "      <td>We're Back! A Dinosaur's Story</td>\n",
              "    </tr>\n",
              "    <tr>\n",
              "      <th>4835</th>\n",
              "      <td>Toy, The (1982)</td>\n",
              "      <td>Comedy</td>\n",
              "      <td>Toy, The</td>\n",
              "    </tr>\n",
              "    <tr>\n",
              "      <th>5395</th>\n",
              "      <td>Eddy Duchin Story, The (1956)</td>\n",
              "      <td>Drama Musical</td>\n",
              "      <td>Eddy Duchin Story, The</td>\n",
              "    </tr>\n",
              "    <tr>\n",
              "      <th>5745</th>\n",
              "      <td>Toy Soldiers (1991)</td>\n",
              "      <td>Action Drama</td>\n",
              "      <td>Toy Soldiers</td>\n",
              "    </tr>\n",
              "    <tr>\n",
              "      <th>5884</th>\n",
              "      <td>Story of O, The (Histoire d'O) (1975)</td>\n",
              "      <td>Drama Romance</td>\n",
              "      <td>Story of O, The (Histoire d'O)</td>\n",
              "    </tr>\n",
              "  </tbody>\n",
              "</table>\n",
              "</div>\n",
              "    <div class=\"colab-df-buttons\">\n",
              "\n",
              "  <div class=\"colab-df-container\">\n",
              "    <button class=\"colab-df-convert\" onclick=\"convertToInteractive('df-7d207a1d-8653-4ecb-b93d-f3b6f695b6b8')\"\n",
              "            title=\"Convert this dataframe to an interactive table.\"\n",
              "            style=\"display:none;\">\n",
              "\n",
              "  <svg xmlns=\"http://www.w3.org/2000/svg\" height=\"24px\" viewBox=\"0 -960 960 960\">\n",
              "    <path d=\"M120-120v-720h720v720H120Zm60-500h600v-160H180v160Zm220 220h160v-160H400v160Zm0 220h160v-160H400v160ZM180-400h160v-160H180v160Zm440 0h160v-160H620v160ZM180-180h160v-160H180v160Zm440 0h160v-160H620v160Z\"/>\n",
              "  </svg>\n",
              "    </button>\n",
              "\n",
              "  <style>\n",
              "    .colab-df-container {\n",
              "      display:flex;\n",
              "      gap: 12px;\n",
              "    }\n",
              "\n",
              "    .colab-df-convert {\n",
              "      background-color: #E8F0FE;\n",
              "      border: none;\n",
              "      border-radius: 50%;\n",
              "      cursor: pointer;\n",
              "      display: none;\n",
              "      fill: #1967D2;\n",
              "      height: 32px;\n",
              "      padding: 0 0 0 0;\n",
              "      width: 32px;\n",
              "    }\n",
              "\n",
              "    .colab-df-convert:hover {\n",
              "      background-color: #E2EBFA;\n",
              "      box-shadow: 0px 1px 2px rgba(60, 64, 67, 0.3), 0px 1px 3px 1px rgba(60, 64, 67, 0.15);\n",
              "      fill: #174EA6;\n",
              "    }\n",
              "\n",
              "    .colab-df-buttons div {\n",
              "      margin-bottom: 4px;\n",
              "    }\n",
              "\n",
              "    [theme=dark] .colab-df-convert {\n",
              "      background-color: #3B4455;\n",
              "      fill: #D2E3FC;\n",
              "    }\n",
              "\n",
              "    [theme=dark] .colab-df-convert:hover {\n",
              "      background-color: #434B5C;\n",
              "      box-shadow: 0px 1px 3px 1px rgba(0, 0, 0, 0.15);\n",
              "      filter: drop-shadow(0px 1px 2px rgba(0, 0, 0, 0.3));\n",
              "      fill: #FFFFFF;\n",
              "    }\n",
              "  </style>\n",
              "\n",
              "    <script>\n",
              "      const buttonEl =\n",
              "        document.querySelector('#df-7d207a1d-8653-4ecb-b93d-f3b6f695b6b8 button.colab-df-convert');\n",
              "      buttonEl.style.display =\n",
              "        google.colab.kernel.accessAllowed ? 'block' : 'none';\n",
              "\n",
              "      async function convertToInteractive(key) {\n",
              "        const element = document.querySelector('#df-7d207a1d-8653-4ecb-b93d-f3b6f695b6b8');\n",
              "        const dataTable =\n",
              "          await google.colab.kernel.invokeFunction('convertToInteractive',\n",
              "                                                    [key], {});\n",
              "        if (!dataTable) return;\n",
              "\n",
              "        const docLinkHtml = 'Like what you see? Visit the ' +\n",
              "          '<a target=\"_blank\" href=https://colab.research.google.com/notebooks/data_table.ipynb>data table notebook</a>'\n",
              "          + ' to learn more about interactive tables.';\n",
              "        element.innerHTML = '';\n",
              "        dataTable['output_type'] = 'display_data';\n",
              "        await google.colab.output.renderOutput(dataTable, element);\n",
              "        const docLink = document.createElement('div');\n",
              "        docLink.innerHTML = docLinkHtml;\n",
              "        element.appendChild(docLink);\n",
              "      }\n",
              "    </script>\n",
              "  </div>\n",
              "\n",
              "\n",
              "    <div id=\"df-77088abe-b6c9-4c88-8993-97970c722b87\">\n",
              "      <button class=\"colab-df-quickchart\" onclick=\"quickchart('df-77088abe-b6c9-4c88-8993-97970c722b87')\"\n",
              "                title=\"Suggest charts\"\n",
              "                style=\"display:none;\">\n",
              "\n",
              "<svg xmlns=\"http://www.w3.org/2000/svg\" height=\"24px\"viewBox=\"0 0 24 24\"\n",
              "     width=\"24px\">\n",
              "    <g>\n",
              "        <path d=\"M19 3H5c-1.1 0-2 .9-2 2v14c0 1.1.9 2 2 2h14c1.1 0 2-.9 2-2V5c0-1.1-.9-2-2-2zM9 17H7v-7h2v7zm4 0h-2V7h2v10zm4 0h-2v-4h2v4z\"/>\n",
              "    </g>\n",
              "</svg>\n",
              "      </button>\n",
              "\n",
              "<style>\n",
              "  .colab-df-quickchart {\n",
              "      --bg-color: #E8F0FE;\n",
              "      --fill-color: #1967D2;\n",
              "      --hover-bg-color: #E2EBFA;\n",
              "      --hover-fill-color: #174EA6;\n",
              "      --disabled-fill-color: #AAA;\n",
              "      --disabled-bg-color: #DDD;\n",
              "  }\n",
              "\n",
              "  [theme=dark] .colab-df-quickchart {\n",
              "      --bg-color: #3B4455;\n",
              "      --fill-color: #D2E3FC;\n",
              "      --hover-bg-color: #434B5C;\n",
              "      --hover-fill-color: #FFFFFF;\n",
              "      --disabled-bg-color: #3B4455;\n",
              "      --disabled-fill-color: #666;\n",
              "  }\n",
              "\n",
              "  .colab-df-quickchart {\n",
              "    background-color: var(--bg-color);\n",
              "    border: none;\n",
              "    border-radius: 50%;\n",
              "    cursor: pointer;\n",
              "    display: none;\n",
              "    fill: var(--fill-color);\n",
              "    height: 32px;\n",
              "    padding: 0;\n",
              "    width: 32px;\n",
              "  }\n",
              "\n",
              "  .colab-df-quickchart:hover {\n",
              "    background-color: var(--hover-bg-color);\n",
              "    box-shadow: 0 1px 2px rgba(60, 64, 67, 0.3), 0 1px 3px 1px rgba(60, 64, 67, 0.15);\n",
              "    fill: var(--button-hover-fill-color);\n",
              "  }\n",
              "\n",
              "  .colab-df-quickchart-complete:disabled,\n",
              "  .colab-df-quickchart-complete:disabled:hover {\n",
              "    background-color: var(--disabled-bg-color);\n",
              "    fill: var(--disabled-fill-color);\n",
              "    box-shadow: none;\n",
              "  }\n",
              "\n",
              "  .colab-df-spinner {\n",
              "    border: 2px solid var(--fill-color);\n",
              "    border-color: transparent;\n",
              "    border-bottom-color: var(--fill-color);\n",
              "    animation:\n",
              "      spin 1s steps(1) infinite;\n",
              "  }\n",
              "\n",
              "  @keyframes spin {\n",
              "    0% {\n",
              "      border-color: transparent;\n",
              "      border-bottom-color: var(--fill-color);\n",
              "      border-left-color: var(--fill-color);\n",
              "    }\n",
              "    20% {\n",
              "      border-color: transparent;\n",
              "      border-left-color: var(--fill-color);\n",
              "      border-top-color: var(--fill-color);\n",
              "    }\n",
              "    30% {\n",
              "      border-color: transparent;\n",
              "      border-left-color: var(--fill-color);\n",
              "      border-top-color: var(--fill-color);\n",
              "      border-right-color: var(--fill-color);\n",
              "    }\n",
              "    40% {\n",
              "      border-color: transparent;\n",
              "      border-right-color: var(--fill-color);\n",
              "      border-top-color: var(--fill-color);\n",
              "    }\n",
              "    60% {\n",
              "      border-color: transparent;\n",
              "      border-right-color: var(--fill-color);\n",
              "    }\n",
              "    80% {\n",
              "      border-color: transparent;\n",
              "      border-right-color: var(--fill-color);\n",
              "      border-bottom-color: var(--fill-color);\n",
              "    }\n",
              "    90% {\n",
              "      border-color: transparent;\n",
              "      border-bottom-color: var(--fill-color);\n",
              "    }\n",
              "  }\n",
              "</style>\n",
              "\n",
              "      <script>\n",
              "        async function quickchart(key) {\n",
              "          const quickchartButtonEl =\n",
              "            document.querySelector('#' + key + ' button');\n",
              "          quickchartButtonEl.disabled = true;  // To prevent multiple clicks.\n",
              "          quickchartButtonEl.classList.add('colab-df-spinner');\n",
              "          try {\n",
              "            const charts = await google.colab.kernel.invokeFunction(\n",
              "                'suggestCharts', [key], {});\n",
              "          } catch (error) {\n",
              "            console.error('Error during call to suggestCharts:', error);\n",
              "          }\n",
              "          quickchartButtonEl.classList.remove('colab-df-spinner');\n",
              "          quickchartButtonEl.classList.add('colab-df-quickchart-complete');\n",
              "        }\n",
              "        (() => {\n",
              "          let quickchartButtonEl =\n",
              "            document.querySelector('#df-77088abe-b6c9-4c88-8993-97970c722b87 button');\n",
              "          quickchartButtonEl.style.display =\n",
              "            google.colab.kernel.accessAllowed ? 'block' : 'none';\n",
              "        })();\n",
              "      </script>\n",
              "    </div>\n",
              "\n",
              "  <div id=\"id_ff2aa1ea-f44e-40c4-9d19-33a9bd9e290b\">\n",
              "    <style>\n",
              "      .colab-df-generate {\n",
              "        background-color: #E8F0FE;\n",
              "        border: none;\n",
              "        border-radius: 50%;\n",
              "        cursor: pointer;\n",
              "        display: none;\n",
              "        fill: #1967D2;\n",
              "        height: 32px;\n",
              "        padding: 0 0 0 0;\n",
              "        width: 32px;\n",
              "      }\n",
              "\n",
              "      .colab-df-generate:hover {\n",
              "        background-color: #E2EBFA;\n",
              "        box-shadow: 0px 1px 2px rgba(60, 64, 67, 0.3), 0px 1px 3px 1px rgba(60, 64, 67, 0.15);\n",
              "        fill: #174EA6;\n",
              "      }\n",
              "\n",
              "      [theme=dark] .colab-df-generate {\n",
              "        background-color: #3B4455;\n",
              "        fill: #D2E3FC;\n",
              "      }\n",
              "\n",
              "      [theme=dark] .colab-df-generate:hover {\n",
              "        background-color: #434B5C;\n",
              "        box-shadow: 0px 1px 3px 1px rgba(0, 0, 0, 0.15);\n",
              "        filter: drop-shadow(0px 1px 2px rgba(0, 0, 0, 0.3));\n",
              "        fill: #FFFFFF;\n",
              "      }\n",
              "    </style>\n",
              "    <button class=\"colab-df-generate\" onclick=\"generateWithVariable('content_recs')\"\n",
              "            title=\"Generate code using this dataframe.\"\n",
              "            style=\"display:none;\">\n",
              "\n",
              "  <svg xmlns=\"http://www.w3.org/2000/svg\" height=\"24px\"viewBox=\"0 0 24 24\"\n",
              "       width=\"24px\">\n",
              "    <path d=\"M7,19H8.4L18.45,9,17,7.55,7,17.6ZM5,21V16.75L18.45,3.32a2,2,0,0,1,2.83,0l1.4,1.43a1.91,1.91,0,0,1,.58,1.4,1.91,1.91,0,0,1-.58,1.4L9.25,21ZM18.45,9,17,7.55Zm-12,3A5.31,5.31,0,0,0,4.9,8.1,5.31,5.31,0,0,0,1,6.5,5.31,5.31,0,0,0,4.9,4.9,5.31,5.31,0,0,0,6.5,1,5.31,5.31,0,0,0,8.1,4.9,5.31,5.31,0,0,0,12,6.5,5.46,5.46,0,0,0,6.5,12Z\"/>\n",
              "  </svg>\n",
              "    </button>\n",
              "    <script>\n",
              "      (() => {\n",
              "      const buttonEl =\n",
              "        document.querySelector('#id_ff2aa1ea-f44e-40c4-9d19-33a9bd9e290b button.colab-df-generate');\n",
              "      buttonEl.style.display =\n",
              "        google.colab.kernel.accessAllowed ? 'block' : 'none';\n",
              "\n",
              "      buttonEl.onclick = () => {\n",
              "        google.colab.notebook.generateWithVariable('content_recs');\n",
              "      }\n",
              "      })();\n",
              "    </script>\n",
              "  </div>\n",
              "\n",
              "    </div>\n",
              "  </div>\n"
            ],
            "application/vnd.google.colaboratory.intrinsic+json": {
              "type": "dataframe",
              "variable_name": "content_recs",
              "summary": "{\n  \"name\": \"content_recs\",\n  \"rows\": 10,\n  \"fields\": [\n    {\n      \"column\": \"title\",\n      \"properties\": {\n        \"dtype\": \"string\",\n        \"num_unique_values\": 10,\n        \"samples\": [\n          \"Toy Soldiers (1991)\",\n          \"Lilian's Story (1995)\",\n          \"We're Back! A Dinosaur's Story (1993)\"\n        ],\n        \"semantic_type\": \"\",\n        \"description\": \"\"\n      }\n    },\n    {\n      \"column\": \"genres\",\n      \"properties\": {\n        \"dtype\": \"string\",\n        \"num_unique_values\": 10,\n        \"samples\": [\n          \"Action Drama\",\n          \"Drama\",\n          \"Adventure Animation Children Fantasy\"\n        ],\n        \"semantic_type\": \"\",\n        \"description\": \"\"\n      }\n    },\n    {\n      \"column\": \"clean_title\",\n      \"properties\": {\n        \"dtype\": \"string\",\n        \"num_unique_values\": 10,\n        \"samples\": [\n          \"Toy Soldiers\",\n          \"Lilian's Story\",\n          \"We're Back! A Dinosaur's Story\"\n        ],\n        \"semantic_type\": \"\",\n        \"description\": \"\"\n      }\n    }\n  ]\n}"
            }
          },
          "metadata": {},
          "execution_count": 27
        }
      ]
    },
    {
      "cell_type": "code",
      "source": [
        "example_movie_2 = \"Matrix, The (1999)\"\n",
        "content_recs_2 = get_content_based_recommendations(example_movie_2)\n",
        "content_recs_2"
      ],
      "metadata": {
        "colab": {
          "base_uri": "https://localhost:8080/",
          "height": 397
        },
        "id": "E5BQcVUn5HVc",
        "outputId": "9d165d73-ad89-4a23-be88-8f74cf5808cf"
      },
      "execution_count": 28,
      "outputs": [
        {
          "output_type": "stream",
          "name": "stdout",
          "text": [
            "\n",
            "--- Content-Based Recommendations for 'Matrix, The (1999)' ---\n"
          ]
        },
        {
          "output_type": "execute_result",
          "data": {
            "text/plain": [
              "                                   title  \\\n",
              "0                       Toy Story (1995)   \n",
              "1                         Jumanji (1995)   \n",
              "2                Grumpier Old Men (1995)   \n",
              "3               Waiting to Exhale (1995)   \n",
              "4     Father of the Bride Part II (1995)   \n",
              "5                            Heat (1995)   \n",
              "6                         Sabrina (1995)   \n",
              "7                    Tom and Huck (1995)   \n",
              "6258         Matrix Reloaded, The (2003)   \n",
              "6820      Matrix Revolutions, The (2003)   \n",
              "\n",
              "                                           genres                  clean_title  \n",
              "0     Adventure Animation Children Comedy Fantasy                    Toy Story  \n",
              "1                      Adventure Children Fantasy                      Jumanji  \n",
              "2                                  Comedy Romance             Grumpier Old Men  \n",
              "3                            Comedy Drama Romance            Waiting to Exhale  \n",
              "4                                          Comedy  Father of the Bride Part II  \n",
              "5                           Action Crime Thriller                         Heat  \n",
              "6                                  Comedy Romance                      Sabrina  \n",
              "7                              Adventure Children                 Tom and Huck  \n",
              "6258                       Action Sci-Fi Thriller         Matrix Reloaded, The  \n",
              "6820                       Action Sci-Fi Thriller      Matrix Revolutions, The  "
            ],
            "text/html": [
              "\n",
              "  <div id=\"df-db64b440-d563-412d-a501-b09eb7e140d7\" class=\"colab-df-container\">\n",
              "    <div>\n",
              "<style scoped>\n",
              "    .dataframe tbody tr th:only-of-type {\n",
              "        vertical-align: middle;\n",
              "    }\n",
              "\n",
              "    .dataframe tbody tr th {\n",
              "        vertical-align: top;\n",
              "    }\n",
              "\n",
              "    .dataframe thead th {\n",
              "        text-align: right;\n",
              "    }\n",
              "</style>\n",
              "<table border=\"1\" class=\"dataframe\">\n",
              "  <thead>\n",
              "    <tr style=\"text-align: right;\">\n",
              "      <th></th>\n",
              "      <th>title</th>\n",
              "      <th>genres</th>\n",
              "      <th>clean_title</th>\n",
              "    </tr>\n",
              "  </thead>\n",
              "  <tbody>\n",
              "    <tr>\n",
              "      <th>0</th>\n",
              "      <td>Toy Story (1995)</td>\n",
              "      <td>Adventure Animation Children Comedy Fantasy</td>\n",
              "      <td>Toy Story</td>\n",
              "    </tr>\n",
              "    <tr>\n",
              "      <th>1</th>\n",
              "      <td>Jumanji (1995)</td>\n",
              "      <td>Adventure Children Fantasy</td>\n",
              "      <td>Jumanji</td>\n",
              "    </tr>\n",
              "    <tr>\n",
              "      <th>2</th>\n",
              "      <td>Grumpier Old Men (1995)</td>\n",
              "      <td>Comedy Romance</td>\n",
              "      <td>Grumpier Old Men</td>\n",
              "    </tr>\n",
              "    <tr>\n",
              "      <th>3</th>\n",
              "      <td>Waiting to Exhale (1995)</td>\n",
              "      <td>Comedy Drama Romance</td>\n",
              "      <td>Waiting to Exhale</td>\n",
              "    </tr>\n",
              "    <tr>\n",
              "      <th>4</th>\n",
              "      <td>Father of the Bride Part II (1995)</td>\n",
              "      <td>Comedy</td>\n",
              "      <td>Father of the Bride Part II</td>\n",
              "    </tr>\n",
              "    <tr>\n",
              "      <th>5</th>\n",
              "      <td>Heat (1995)</td>\n",
              "      <td>Action Crime Thriller</td>\n",
              "      <td>Heat</td>\n",
              "    </tr>\n",
              "    <tr>\n",
              "      <th>6</th>\n",
              "      <td>Sabrina (1995)</td>\n",
              "      <td>Comedy Romance</td>\n",
              "      <td>Sabrina</td>\n",
              "    </tr>\n",
              "    <tr>\n",
              "      <th>7</th>\n",
              "      <td>Tom and Huck (1995)</td>\n",
              "      <td>Adventure Children</td>\n",
              "      <td>Tom and Huck</td>\n",
              "    </tr>\n",
              "    <tr>\n",
              "      <th>6258</th>\n",
              "      <td>Matrix Reloaded, The (2003)</td>\n",
              "      <td>Action Sci-Fi Thriller</td>\n",
              "      <td>Matrix Reloaded, The</td>\n",
              "    </tr>\n",
              "    <tr>\n",
              "      <th>6820</th>\n",
              "      <td>Matrix Revolutions, The (2003)</td>\n",
              "      <td>Action Sci-Fi Thriller</td>\n",
              "      <td>Matrix Revolutions, The</td>\n",
              "    </tr>\n",
              "  </tbody>\n",
              "</table>\n",
              "</div>\n",
              "    <div class=\"colab-df-buttons\">\n",
              "\n",
              "  <div class=\"colab-df-container\">\n",
              "    <button class=\"colab-df-convert\" onclick=\"convertToInteractive('df-db64b440-d563-412d-a501-b09eb7e140d7')\"\n",
              "            title=\"Convert this dataframe to an interactive table.\"\n",
              "            style=\"display:none;\">\n",
              "\n",
              "  <svg xmlns=\"http://www.w3.org/2000/svg\" height=\"24px\" viewBox=\"0 -960 960 960\">\n",
              "    <path d=\"M120-120v-720h720v720H120Zm60-500h600v-160H180v160Zm220 220h160v-160H400v160Zm0 220h160v-160H400v160ZM180-400h160v-160H180v160Zm440 0h160v-160H620v160ZM180-180h160v-160H180v160Zm440 0h160v-160H620v160Z\"/>\n",
              "  </svg>\n",
              "    </button>\n",
              "\n",
              "  <style>\n",
              "    .colab-df-container {\n",
              "      display:flex;\n",
              "      gap: 12px;\n",
              "    }\n",
              "\n",
              "    .colab-df-convert {\n",
              "      background-color: #E8F0FE;\n",
              "      border: none;\n",
              "      border-radius: 50%;\n",
              "      cursor: pointer;\n",
              "      display: none;\n",
              "      fill: #1967D2;\n",
              "      height: 32px;\n",
              "      padding: 0 0 0 0;\n",
              "      width: 32px;\n",
              "    }\n",
              "\n",
              "    .colab-df-convert:hover {\n",
              "      background-color: #E2EBFA;\n",
              "      box-shadow: 0px 1px 2px rgba(60, 64, 67, 0.3), 0px 1px 3px 1px rgba(60, 64, 67, 0.15);\n",
              "      fill: #174EA6;\n",
              "    }\n",
              "\n",
              "    .colab-df-buttons div {\n",
              "      margin-bottom: 4px;\n",
              "    }\n",
              "\n",
              "    [theme=dark] .colab-df-convert {\n",
              "      background-color: #3B4455;\n",
              "      fill: #D2E3FC;\n",
              "    }\n",
              "\n",
              "    [theme=dark] .colab-df-convert:hover {\n",
              "      background-color: #434B5C;\n",
              "      box-shadow: 0px 1px 3px 1px rgba(0, 0, 0, 0.15);\n",
              "      filter: drop-shadow(0px 1px 2px rgba(0, 0, 0, 0.3));\n",
              "      fill: #FFFFFF;\n",
              "    }\n",
              "  </style>\n",
              "\n",
              "    <script>\n",
              "      const buttonEl =\n",
              "        document.querySelector('#df-db64b440-d563-412d-a501-b09eb7e140d7 button.colab-df-convert');\n",
              "      buttonEl.style.display =\n",
              "        google.colab.kernel.accessAllowed ? 'block' : 'none';\n",
              "\n",
              "      async function convertToInteractive(key) {\n",
              "        const element = document.querySelector('#df-db64b440-d563-412d-a501-b09eb7e140d7');\n",
              "        const dataTable =\n",
              "          await google.colab.kernel.invokeFunction('convertToInteractive',\n",
              "                                                    [key], {});\n",
              "        if (!dataTable) return;\n",
              "\n",
              "        const docLinkHtml = 'Like what you see? Visit the ' +\n",
              "          '<a target=\"_blank\" href=https://colab.research.google.com/notebooks/data_table.ipynb>data table notebook</a>'\n",
              "          + ' to learn more about interactive tables.';\n",
              "        element.innerHTML = '';\n",
              "        dataTable['output_type'] = 'display_data';\n",
              "        await google.colab.output.renderOutput(dataTable, element);\n",
              "        const docLink = document.createElement('div');\n",
              "        docLink.innerHTML = docLinkHtml;\n",
              "        element.appendChild(docLink);\n",
              "      }\n",
              "    </script>\n",
              "  </div>\n",
              "\n",
              "\n",
              "    <div id=\"df-4bc5e388-143a-4416-b5f3-1df0b4060cb6\">\n",
              "      <button class=\"colab-df-quickchart\" onclick=\"quickchart('df-4bc5e388-143a-4416-b5f3-1df0b4060cb6')\"\n",
              "                title=\"Suggest charts\"\n",
              "                style=\"display:none;\">\n",
              "\n",
              "<svg xmlns=\"http://www.w3.org/2000/svg\" height=\"24px\"viewBox=\"0 0 24 24\"\n",
              "     width=\"24px\">\n",
              "    <g>\n",
              "        <path d=\"M19 3H5c-1.1 0-2 .9-2 2v14c0 1.1.9 2 2 2h14c1.1 0 2-.9 2-2V5c0-1.1-.9-2-2-2zM9 17H7v-7h2v7zm4 0h-2V7h2v10zm4 0h-2v-4h2v4z\"/>\n",
              "    </g>\n",
              "</svg>\n",
              "      </button>\n",
              "\n",
              "<style>\n",
              "  .colab-df-quickchart {\n",
              "      --bg-color: #E8F0FE;\n",
              "      --fill-color: #1967D2;\n",
              "      --hover-bg-color: #E2EBFA;\n",
              "      --hover-fill-color: #174EA6;\n",
              "      --disabled-fill-color: #AAA;\n",
              "      --disabled-bg-color: #DDD;\n",
              "  }\n",
              "\n",
              "  [theme=dark] .colab-df-quickchart {\n",
              "      --bg-color: #3B4455;\n",
              "      --fill-color: #D2E3FC;\n",
              "      --hover-bg-color: #434B5C;\n",
              "      --hover-fill-color: #FFFFFF;\n",
              "      --disabled-bg-color: #3B4455;\n",
              "      --disabled-fill-color: #666;\n",
              "  }\n",
              "\n",
              "  .colab-df-quickchart {\n",
              "    background-color: var(--bg-color);\n",
              "    border: none;\n",
              "    border-radius: 50%;\n",
              "    cursor: pointer;\n",
              "    display: none;\n",
              "    fill: var(--fill-color);\n",
              "    height: 32px;\n",
              "    padding: 0;\n",
              "    width: 32px;\n",
              "  }\n",
              "\n",
              "  .colab-df-quickchart:hover {\n",
              "    background-color: var(--hover-bg-color);\n",
              "    box-shadow: 0 1px 2px rgba(60, 64, 67, 0.3), 0 1px 3px 1px rgba(60, 64, 67, 0.15);\n",
              "    fill: var(--button-hover-fill-color);\n",
              "  }\n",
              "\n",
              "  .colab-df-quickchart-complete:disabled,\n",
              "  .colab-df-quickchart-complete:disabled:hover {\n",
              "    background-color: var(--disabled-bg-color);\n",
              "    fill: var(--disabled-fill-color);\n",
              "    box-shadow: none;\n",
              "  }\n",
              "\n",
              "  .colab-df-spinner {\n",
              "    border: 2px solid var(--fill-color);\n",
              "    border-color: transparent;\n",
              "    border-bottom-color: var(--fill-color);\n",
              "    animation:\n",
              "      spin 1s steps(1) infinite;\n",
              "  }\n",
              "\n",
              "  @keyframes spin {\n",
              "    0% {\n",
              "      border-color: transparent;\n",
              "      border-bottom-color: var(--fill-color);\n",
              "      border-left-color: var(--fill-color);\n",
              "    }\n",
              "    20% {\n",
              "      border-color: transparent;\n",
              "      border-left-color: var(--fill-color);\n",
              "      border-top-color: var(--fill-color);\n",
              "    }\n",
              "    30% {\n",
              "      border-color: transparent;\n",
              "      border-left-color: var(--fill-color);\n",
              "      border-top-color: var(--fill-color);\n",
              "      border-right-color: var(--fill-color);\n",
              "    }\n",
              "    40% {\n",
              "      border-color: transparent;\n",
              "      border-right-color: var(--fill-color);\n",
              "      border-top-color: var(--fill-color);\n",
              "    }\n",
              "    60% {\n",
              "      border-color: transparent;\n",
              "      border-right-color: var(--fill-color);\n",
              "    }\n",
              "    80% {\n",
              "      border-color: transparent;\n",
              "      border-right-color: var(--fill-color);\n",
              "      border-bottom-color: var(--fill-color);\n",
              "    }\n",
              "    90% {\n",
              "      border-color: transparent;\n",
              "      border-bottom-color: var(--fill-color);\n",
              "    }\n",
              "  }\n",
              "</style>\n",
              "\n",
              "      <script>\n",
              "        async function quickchart(key) {\n",
              "          const quickchartButtonEl =\n",
              "            document.querySelector('#' + key + ' button');\n",
              "          quickchartButtonEl.disabled = true;  // To prevent multiple clicks.\n",
              "          quickchartButtonEl.classList.add('colab-df-spinner');\n",
              "          try {\n",
              "            const charts = await google.colab.kernel.invokeFunction(\n",
              "                'suggestCharts', [key], {});\n",
              "          } catch (error) {\n",
              "            console.error('Error during call to suggestCharts:', error);\n",
              "          }\n",
              "          quickchartButtonEl.classList.remove('colab-df-spinner');\n",
              "          quickchartButtonEl.classList.add('colab-df-quickchart-complete');\n",
              "        }\n",
              "        (() => {\n",
              "          let quickchartButtonEl =\n",
              "            document.querySelector('#df-4bc5e388-143a-4416-b5f3-1df0b4060cb6 button');\n",
              "          quickchartButtonEl.style.display =\n",
              "            google.colab.kernel.accessAllowed ? 'block' : 'none';\n",
              "        })();\n",
              "      </script>\n",
              "    </div>\n",
              "\n",
              "  <div id=\"id_d3b5e94a-5617-4de5-a64d-190bc721dd7a\">\n",
              "    <style>\n",
              "      .colab-df-generate {\n",
              "        background-color: #E8F0FE;\n",
              "        border: none;\n",
              "        border-radius: 50%;\n",
              "        cursor: pointer;\n",
              "        display: none;\n",
              "        fill: #1967D2;\n",
              "        height: 32px;\n",
              "        padding: 0 0 0 0;\n",
              "        width: 32px;\n",
              "      }\n",
              "\n",
              "      .colab-df-generate:hover {\n",
              "        background-color: #E2EBFA;\n",
              "        box-shadow: 0px 1px 2px rgba(60, 64, 67, 0.3), 0px 1px 3px 1px rgba(60, 64, 67, 0.15);\n",
              "        fill: #174EA6;\n",
              "      }\n",
              "\n",
              "      [theme=dark] .colab-df-generate {\n",
              "        background-color: #3B4455;\n",
              "        fill: #D2E3FC;\n",
              "      }\n",
              "\n",
              "      [theme=dark] .colab-df-generate:hover {\n",
              "        background-color: #434B5C;\n",
              "        box-shadow: 0px 1px 3px 1px rgba(0, 0, 0, 0.15);\n",
              "        filter: drop-shadow(0px 1px 2px rgba(0, 0, 0, 0.3));\n",
              "        fill: #FFFFFF;\n",
              "      }\n",
              "    </style>\n",
              "    <button class=\"colab-df-generate\" onclick=\"generateWithVariable('content_recs_2')\"\n",
              "            title=\"Generate code using this dataframe.\"\n",
              "            style=\"display:none;\">\n",
              "\n",
              "  <svg xmlns=\"http://www.w3.org/2000/svg\" height=\"24px\"viewBox=\"0 0 24 24\"\n",
              "       width=\"24px\">\n",
              "    <path d=\"M7,19H8.4L18.45,9,17,7.55,7,17.6ZM5,21V16.75L18.45,3.32a2,2,0,0,1,2.83,0l1.4,1.43a1.91,1.91,0,0,1,.58,1.4,1.91,1.91,0,0,1-.58,1.4L9.25,21ZM18.45,9,17,7.55Zm-12,3A5.31,5.31,0,0,0,4.9,8.1,5.31,5.31,0,0,0,1,6.5,5.31,5.31,0,0,0,4.9,4.9,5.31,5.31,0,0,0,6.5,1,5.31,5.31,0,0,0,8.1,4.9,5.31,5.31,0,0,0,12,6.5,5.46,5.46,0,0,0,6.5,12Z\"/>\n",
              "  </svg>\n",
              "    </button>\n",
              "    <script>\n",
              "      (() => {\n",
              "      const buttonEl =\n",
              "        document.querySelector('#id_d3b5e94a-5617-4de5-a64d-190bc721dd7a button.colab-df-generate');\n",
              "      buttonEl.style.display =\n",
              "        google.colab.kernel.accessAllowed ? 'block' : 'none';\n",
              "\n",
              "      buttonEl.onclick = () => {\n",
              "        google.colab.notebook.generateWithVariable('content_recs_2');\n",
              "      }\n",
              "      })();\n",
              "    </script>\n",
              "  </div>\n",
              "\n",
              "    </div>\n",
              "  </div>\n"
            ],
            "application/vnd.google.colaboratory.intrinsic+json": {
              "type": "dataframe",
              "variable_name": "content_recs_2",
              "summary": "{\n  \"name\": \"content_recs_2\",\n  \"rows\": 10,\n  \"fields\": [\n    {\n      \"column\": \"title\",\n      \"properties\": {\n        \"dtype\": \"string\",\n        \"num_unique_values\": 10,\n        \"samples\": [\n          \"Matrix Reloaded, The (2003)\",\n          \"Jumanji (1995)\",\n          \"Heat (1995)\"\n        ],\n        \"semantic_type\": \"\",\n        \"description\": \"\"\n      }\n    },\n    {\n      \"column\": \"genres\",\n      \"properties\": {\n        \"dtype\": \"string\",\n        \"num_unique_values\": 8,\n        \"samples\": [\n          \"Adventure Children Fantasy\",\n          \"Action Crime Thriller\",\n          \"Adventure Animation Children Comedy Fantasy\"\n        ],\n        \"semantic_type\": \"\",\n        \"description\": \"\"\n      }\n    },\n    {\n      \"column\": \"clean_title\",\n      \"properties\": {\n        \"dtype\": \"string\",\n        \"num_unique_values\": 10,\n        \"samples\": [\n          \"Matrix Reloaded, The\",\n          \"Jumanji\",\n          \"Heat\"\n        ],\n        \"semantic_type\": \"\",\n        \"description\": \"\"\n      }\n    }\n  ]\n}"
            }
          },
          "metadata": {},
          "execution_count": 28
        }
      ]
    },
    {
      "cell_type": "markdown",
      "source": [
        "### Strengths and Weaknesses of Content-Based Filtering\n",
        "\n",
        "This approach, which recommends movies based on genre similarity, has clear advantages and disadvantages.\n",
        "\n",
        "**Strengths:**\n",
        "* **User Independence:** The model doesn't need any data about other users. It can produce recommendations for a user with just a single rated movie.\n",
        "* **Recommends Niche Items:** It can recommend obscure movies that have similar genres to a user's liked movies, even if those movies aren't popular among other users.\n",
        "* **Explainable:** The recommendations are easy to understand. We can clearly state, \"We recommended *Star Wars* because you liked *Iron Man*, and both are Action/Adventure/Sci-Fi films.\"\n",
        "\n",
        "**Weaknesses:**\n",
        "* **Limited Novelty (Overspecialization):** The model will never recommend something outside a user's existing interests. A user who only watches comedies will only be recommended more comedies. It struggles to create \"serendipitous\" or surprising discoveries.\n",
        "* **Feature Dependent:** The quality of recommendations is entirely dependent on the quality of the features we use (in this case, only genre). If genres are missing or too broad, the recommendations will be poor. It doesn't capture subtle nuances that users might like."
      ],
      "metadata": {
        "id": "0xKzunafAmSY"
      }
    },
    {
      "cell_type": "markdown",
      "source": [
        "### Evaluation Metrics for content Based Recomendations"
      ],
      "metadata": {
        "id": "rE1d50dXtYd5"
      }
    },
    {
      "cell_type": "markdown",
      "source": [
        "Defines our \"measuring sticks.\" We are creating two functions, precision_at_k and recall_at_k, which will serve as the core of our evaluation.\n",
        "\n",
        "* precision_at_k: This function calculates how precise our recommendations are. It takes the list of movies our model recommends and compares it to the list of movies the user actually liked (the \"ground truth\"). It then answers the question: \"Of the top 'k' movies we recommended, what fraction was actually relevant?\"\n",
        "\n",
        "* recall_at_k: This function calculates how complete our recommendations are. It looks at all the movies the user liked in the ground truth set and determines what fraction of them we successfully found and included in our top 'k' recommendation list.\n",
        "\n",
        "\n",
        "\n",
        "The functions are designed to be robust, returning 0.0 if a calculation isn't possible (e.g., if there are no recommendations or no ground truth items)."
      ],
      "metadata": {
        "id": "AKBTFVTXykrO"
      }
    },
    {
      "cell_type": "code",
      "source": [
        "def precision_at_k(recommended_items, ground_truth_items, k):\n",
        "    \"\"\"\n",
        "    Menghitung Precision@K.\n",
        "\n",
        "    Args:\n",
        "        recommended_items (list): Daftar movie_id yang direkomendasikan.\n",
        "        ground_truth_items (list): Daftar movie_id yang benar-benar disukai pengguna.\n",
        "        k (int): Jumlah item teratas yang akan dipertimbangkan.\n",
        "\n",
        "    Returns:\n",
        "        float: Nilai Precision@K.\n",
        "    \"\"\"\n",
        "    if k == 0 or not recommended_items:\n",
        "        return 0.0\n",
        "\n",
        "    top_k = recommended_items[:k]\n",
        "    relevant_count = len(set(top_k) & set(ground_truth_items))\n",
        "\n",
        "    return relevant_count / k\n",
        "\n",
        "def recall_at_k(recommended_items, ground_truth_items, k):\n",
        "    \"\"\"\n",
        "    Menghitung Recall@K.\n",
        "\n",
        "    Args:\n",
        "        recommended_items (list): Daftar movie_id yang direkomendasikan.\n",
        "        ground_truth_items (list): Daftar movie_id yang benar-benar disukai pengguna.\n",
        "        k (int): Jumlah item teratas yang akan dipertimbangkan.\n",
        "\n",
        "    Returns:\n",
        "        float: Nilai Recall@K.\n",
        "    \"\"\"\n",
        "    if not ground_truth_items:\n",
        "        return 0.0\n",
        "\n",
        "    top_k = recommended_items[:k]\n",
        "    relevant_count = len(set(top_k) & set(ground_truth_items))\n",
        "\n",
        "    return relevant_count / len(ground_truth_items)\n",
        "\n",
        "print(\"Precision@K and Recall@K functions defined.\")"
      ],
      "metadata": {
        "id": "o_b2hcsKlAli",
        "colab": {
          "base_uri": "https://localhost:8080/"
        },
        "outputId": "f95640e6-7f7d-4ea8-c598-646d8a6052b8"
      },
      "execution_count": 29,
      "outputs": [
        {
          "output_type": "stream",
          "name": "stdout",
          "text": [
            "Precision@K and Recall@K functions defined.\n"
          ]
        }
      ]
    },
    {
      "cell_type": "markdown",
      "source": [
        "Preparing the Data for Evaluation"
      ],
      "metadata": {
        "id": "4XvxCMpbuFuQ"
      }
    },
    {
      "cell_type": "markdown",
      "source": [
        "Before we can loop through users and score our Content-Based Filtering model, we need helper functions to retrieve the necessary data for each user. This code block defines two such functions.\n",
        "\n",
        "1. `get_ground_truth_movies(user_id, test_df_input, min_rating=4.0)`: This function is designed to obtain our \"correct answers\" or ground truth. For a given `user_id`, it scans the `test_df_input` and returns a list of `movie_id`s that the user rated highly (specifically, 4.0 stars or more). This list represents the actual movies the user liked in the unseen data, which we hope our model can successfully recommend.\n",
        "\n",
        "2. `get_content_based_recommendations_for_eval(user_id, train_df_input, df_movies_input, cosine_sim_matrix_input, num_recommendations=10)`: This function retrieves our \"predicted answers\" from the Content-Based model for a specific user. It first checks if the `user_train_data` for the given `user_id` is empty; if so, it returns an empty list as no recommendations can be generated. For users with training data, the function aims to simulate a real-world recommendation scenario by finding a movie the user liked in their training history (`train_df_input`) and using its content features (derived from `clean_title` via `cosine_sim_matrix_input`) to generate `num_recommendations` new movie recommendations. It then returns the `movie_id`s of these recommendations."
      ],
      "metadata": {
        "id": "4nYe1dcMyM7a"
      }
    },
    {
      "cell_type": "code",
      "source": [
        "def get_ground_truth_movies(user_id, test_df_input, min_rating=4.0):\n",
        "    \"\"\"\n",
        "    Mendapatkan daftar movie_id yang disukai oleh pengguna dari test set.\n",
        "    \"\"\"\n",
        "    user_data = test_df_input[(test_df_input['user_id'] == user_id) & (test_df_input['rating'] >= min_rating)]\n",
        "    return user_data['movie_id'].tolist()\n",
        "\n",
        "def get_content_based_recommendations_for_eval(user_id, train_df_input, df_movies_input, cosine_sim_matrix_input, num_recommendations=10):\n",
        "    \"\"\"\n",
        "    Mendapatkan rekomendasi Content-Based untuk user tertentu berdasarkan riwayat train data.\n",
        "    \"\"\"\n",
        "    user_train_data = train_df_input[train_df_input['user_id'] == user_id]\n",
        "    if user_train_data.empty:\n",
        "        return []\n",
        "\n",
        "    # Ambil film yang pernah dirating tinggi oleh user di train data sebagai \"seed\"\n",
        "    liked_movies_in_train = user_train_data[user_train_data['rating'] >= 4.0]\n",
        "    if liked_movies_in_train.empty:\n",
        "        return []\n",
        "\n",
        "    try:\n",
        "        # Ambil satu film secara acak dari yang disukai user di train data\n",
        "        seed_movie = liked_movies_in_train.sample(1).iloc[0]\n",
        "        seed_movie_title = seed_movie['title']\n",
        "    except ValueError:\n",
        "        return []\n",
        "\n",
        "    # Dapatkan indeks film dari judul\n",
        "    # Pastikan movies_df yang digunakan untuk Content-Based sudah bersih\n",
        "    idx_row = df_movies_input[df_movies_input['title'] == seed_movie_title]\n",
        "    if idx_row.empty:\n",
        "        return []\n",
        "    idx = idx_row.index[0] # Menggunakan indeks asli dari DataFrame movies\n",
        "\n",
        "    # Dapatkan skor kemiripan film tersebut dengan semua film lain\n",
        "    sim_scores = list(enumerate(cosine_sim_matrix_input[idx]))\n",
        "\n",
        "    # Urutkan film berdasarkan skor kemiripan\n",
        "    sim_scores = sorted(sim_scores, key=lambda x: x[1], reverse=True)\n",
        "\n",
        "    # Dapatkan skor dari N film teratas (kecuali film itu sendiri)\n",
        "    sim_scores = sim_scores[1:num_recommendations + 1]\n",
        "\n",
        "    # Dapatkan movie_id dari indeks\n",
        "    movie_indices_in_movies_df = [i[0] for i in sim_scores]\n",
        "    recommended_movie_ids = [df_movies_input.loc[i, 'movie_id'] for i in movie_indices_in_movies_df]\n",
        "\n",
        "    # Filter out movies already seen/rated by the user in train set\n",
        "    seen_movies_by_user = user_train_data['movie_id'].tolist()\n",
        "    final_recommendations = [mid for mid in recommended_movie_ids if mid not in seen_movies_by_user]\n",
        "\n",
        "    # Pastikan jumlah rekomendasi sesuai permintaan\n",
        "    return final_recommendations[:num_recommendations]\n",
        "\n",
        "    print(\"Helper functions for evaluation defined.\")"
      ],
      "metadata": {
        "id": "r0Z4FjZls8F4"
      },
      "execution_count": 30,
      "outputs": []
    },
    {
      "cell_type": "markdown",
      "source": [
        "Running the Evaluation Loop and Calculating Results"
      ],
      "metadata": {
        "id": "xrCleGkmvAaU"
      }
    },
    {
      "cell_type": "markdown",
      "source": [
        "This final code block orchestrates the evaluation process for our Content-Based Filtering model.\n",
        "\n",
        "First, we set our evaluation parameters: k_eval is set to 10 to consider the top 10 recommendations, and a random sample_users_cb of 100 users is selected from the df to perform the evaluation efficiently. Two empty lists, precision_scores_cb and recall_scores_cb, are initialized to store the metric results for each user.\n",
        "\n",
        "Then, a main loop is initiated to iterate through each user_id in our sampled group. Within this loop:\n",
        "\n",
        "1. `get_ground_truth_movies` is called to retrieve the actual list of movies that the user rated highly (considered relevant) from the `test_df`.\n",
        "2. `get_content_based_recommendations_for_eval` is invoked to obtain the top `k_eval` movie recommendations generated by our Content-Based model for the current user, utilizing their liked movies from the `train_df` as a seed, and ensuring the `movies` DataFrame with `clean_title` and `cosine_sim` matrix are correctly used.\n",
        "3. A check is performed to ensure both `ground_truth` and `recommended_movie_ids_for_user` lists are not empty; users without sufficient data for evaluation are skipped.\n",
        "4. The `precision_at_k` and `recall_at_k` functions are applied to calculate the precision and recall scores for the current user.\n",
        "5. These individual `precision` and `recall` scores are then appended to their respective `precision_scores_cb` and `recall_scores_cb lists`.\n",
        "\n",
        "After the loop completes, we calculate the average of all the scores we collected and print the final, summary result."
      ],
      "metadata": {
        "id": "_Gb04ykOxkFD"
      }
    },
    {
      "cell_type": "code",
      "source": [
        "k_eval = 10\n",
        "users_to_evaluate_cb = df['user_id'].unique() # Gunakan semua unique user yang sudah disample di df\n",
        "np.random.shuffle(users_to_evaluate_cb) # Acak urutan user\n",
        "sample_users_cb = users_to_evaluate_cb[:100] # Ambil 100 user pertama sebagai sampel\n",
        "\n",
        "precision_scores_cb = []\n",
        "recall_scores_cb = []\n",
        "\n",
        "print(f\"\\n--- Evaluating Content-Based Filtering for {len(sample_users_cb)} users (k={k_eval}) ---\")\n",
        "\n",
        "# Pastikan movies_df yang digunakan adalah movies yang sudah di-clean title-nya\n",
        "# dan cosine_sim adalah matriks kemiripan dari clean_title\n",
        "current_movies_df_for_cb = movies.copy() # Ambil movies asli\n",
        "# Pastikan clean_title sudah ada dan sama dengan yang digunakan untuk cosine_sim\n",
        "current_movies_df_for_cb['clean_title'] = current_movies_df_for_cb['title'].str.replace(r'\\s*\\(\\d{4}\\)', '', regex=True).str.strip()\n",
        "\n",
        "\n",
        "for user_id in tqdm(sample_users_cb, desc=\"Evaluating CBF\"):\n",
        "    # Ground truth dari test_df\n",
        "    ground_truth = get_ground_truth_movies(user_id, test_df)\n",
        "\n",
        "    # Rekomendasi dari model Content-Based\n",
        "    # Pastikan movie_id_to_index dan index_to_movie_id mapping sudah tersedia\n",
        "    # Juga pastikan `cosine_sim` yang digunakan adalah dari TF-IDF `clean_title`\n",
        "\n",
        "    # Untuk mendapatkan rekomendasi, kita perlu judul film dari movie_id yang disukai user di train_df\n",
        "    # dan kemudian menggunakan fungsi get_content_based_recommendations_for_eval\n",
        "\n",
        "    recommended_movie_ids_for_user = get_content_based_recommendations_for_eval(\n",
        "        user_id,\n",
        "        train_df,\n",
        "        current_movies_df_for_cb, # Gunakan df movies yang sudah bersih judulnya\n",
        "        cosine_sim # Cosine sim dari TF-IDF clean_title\n",
        "    )\n",
        "\n",
        "    if not ground_truth or not recommended_movie_ids_for_user:\n",
        "        # Skip jika tidak ada ground truth atau tidak ada rekomendasi yang dihasilkan\n",
        "        continue\n",
        "\n",
        "    precision = precision_at_k(recommended_movie_ids_for_user, ground_truth, k_eval)\n",
        "    recall = recall_at_k(recommended_movie_ids_for_user, ground_truth, k_eval)\n",
        "\n",
        "    precision_scores_cb.append(precision)\n",
        "    recall_scores_cb.append(recall)\n",
        "\n",
        "if precision_scores_cb and recall_scores_cb:\n",
        "    avg_precision_cb = np.mean(precision_scores_cb)\n",
        "    avg_recall_cb = np.mean(recall_scores_cb)\n",
        "\n",
        "    print(f\"\\nAverage Precision@{k_eval} for Content-Based Filtering: {avg_precision_cb:.4f}\")\n",
        "    print(f\"Average Recall@{k_eval} for Content-Based Filtering: {avg_recall_cb:.4f}\")\n",
        "else:\n",
        "    print(\"Could not calculate metrics for Content-Based Filtering. This might happen if no sample users had liked items in the test set or no recommendations could be generated.\")\n",
        "\n",
        "print(\"\\nContent-Based Filtering Evaluation Completed.\")"
      ],
      "metadata": {
        "colab": {
          "base_uri": "https://localhost:8080/",
          "height": 170,
          "referenced_widgets": [
            "f33dfa8f3b804643b997a000dffaa3ef",
            "4a3c3401e4494638b82a6aedaf8bea9c",
            "4cb99ec81ace4f61b0f829996974e291",
            "3dfaa1ef59de4a6aa4841ff904434244",
            "96bdbd7add8445dda5014566737b8323",
            "380b0a4ef71c4abba25e9bb3b5b37b88",
            "d9468c90e51b4f80a3670599ae35a9bf",
            "52f14d9149d64e4194191711f847eef2",
            "fdaf785f63514776a748fe68ca398755",
            "b19138eb01c24ccdb330ba94d75f7c4a",
            "94234f8329b04885bec2af4fa0eaa347"
          ]
        },
        "id": "yWZk4qLJvHRC",
        "outputId": "68c9d081-3ef8-4d8b-bc85-51edc8c50635"
      },
      "execution_count": 31,
      "outputs": [
        {
          "output_type": "stream",
          "name": "stdout",
          "text": [
            "\n",
            "--- Evaluating Content-Based Filtering for 100 users (k=10) ---\n"
          ]
        },
        {
          "output_type": "display_data",
          "data": {
            "text/plain": [
              "Evaluating CBF:   0%|          | 0/100 [00:00<?, ?it/s]"
            ],
            "application/vnd.jupyter.widget-view+json": {
              "version_major": 2,
              "version_minor": 0,
              "model_id": "f33dfa8f3b804643b997a000dffaa3ef"
            }
          },
          "metadata": {}
        },
        {
          "output_type": "stream",
          "name": "stdout",
          "text": [
            "\n",
            "Average Precision@10 for Content-Based Filtering: 0.0126\n",
            "Average Recall@10 for Content-Based Filtering: 0.0178\n",
            "\n",
            "Content-Based Filtering Evaluation Completed.\n"
          ]
        }
      ]
    },
    {
      "cell_type": "markdown",
      "source": [
        "### Analysis of Evaluation Results\n",
        "\n",
        "* **Average Precision@10: 0.0082**\n",
        "* **Average Recall@10: 0.0111**\n",
        "\n",
        "The results for both precision and recall are quite low, which is expected for this simple model.\n",
        "\n",
        "* **A precision of 0.0082** means that, on average, less than one movie (approximately 0.082) out of the 10 we recommended was actually a movie the user had rated highly in the test set.\n",
        "* **A recall of 0.00111** is very low, indicating that our model only found a tiny fraction of all the movies the user would have liked.\n",
        "\n",
        "**Conclusion:** These metrics demonstrate the limitations of this content-based model, which focuses on keyword analysis from titles. While it can find similar movies based on title semantics, it is not powerful enough to accurately capture the full range of a user's preferences, leading to a low rate of relevant recommendations."
      ],
      "metadata": {
        "id": "nlU1KRCCA2H0"
      }
    },
    {
      "cell_type": "markdown",
      "source": [
        "## Collaborative Filtering: Berbasis Popularitas Dinamis (Film Terlaris Terbaru)"
      ],
      "metadata": {
        "id": "8JJ0T68S71Ts"
      }
    },
    {
      "cell_type": "markdown",
      "source": [
        "Our second approach, Collaborative Filtering, works differently. Instead of looking at movie genres, it focuses on the **collective interaction patterns of all users over time.** The core idea is: \"Movies that are currently gaining the most positive attention from the user community are likely to be of general interest and good recommendations for various users.\" We implement this by identifying films that have a high volume of recent ratings and a strong average rating.\n",
        "\n",
        "### Strengths and Weaknesses of SVDBased Collaborative Filtering\n",
        "\n",
        "**Strengths:**\n",
        "* **Effective for Cold-Start Users:** This model is highly effective in addressing the \"cold-start problem\" for new users. Since it recommends based on overall current popularity, it doesn't require any prior rating history from the individual user to provide relevant suggestions.\n",
        "* **Captures Current Trends:** By incorporating the `timestamp` data and focusing on a recent time window (e.g., the last year), the model can identify and recommend films that are genuinely popular right now, reflecting evolving tastes and recent releases, rather than static all-time favorites.\n",
        "* **Simple and Explainable:** The recommendations are straightforward: \"These are the movies that most people are currently enjoying.\" This simplicity makes the recommendations easy for users to understand and trust.\n",
        "* **No Item Features Needed (Directly):** While movie titles are used for display, the core logic for popularity ranking (`num_ratings`, `avg_rating`, `weighted_rating`) relies purely on user-item interaction data (ratings and timestamps), not content attributes like genre.\n",
        "\n",
        "**Weaknesses:**\n",
        "* **Lack of Personalization:** he most significant limitation is that the model provides the same list of popular movies to all users. It does not account for individual preferences or past viewing habits, meaning it won't recommend niche content that might be highly relevant to a specific user but isn't broadly popular.\n",
        "* **Reinforces Popularity Bias:** TAlthough it's \"dynamic,\" the model still fundamentally recommends items that are already popular. This can reinforce existing trends and limit the discovery of less-known, but potentially excellent, films that haven't yet amassed high rating counts.\n",
        "* **Dependency on Recent Interaction Data:** Its effectiveness relies heavily on having recent and sufficient rating data. If the dataset lacks current interactions, the \"dynamic\" aspect becomes less meaningful.Its effectiveness relies heavily on having recent and sufficient rating data. If the dataset lacks current interactions, the \"dynamic\" aspect becomes less meaningful."
      ],
      "metadata": {
        "id": "R2mbgiBFBF7A"
      }
    },
    {
      "cell_type": "markdown",
      "source": [
        "### Model Building: Dynamic Popularity-Based Recommendations"
      ],
      "metadata": {
        "id": "LmExroh9GWrr"
      }
    },
    {
      "cell_type": "markdown",
      "source": [
        "Define Time Window for Dynamic Popularity"
      ],
      "metadata": {
        "id": "WEHp1-LbGY9n"
      }
    },
    {
      "cell_type": "code",
      "source": [
        "latest_timestamp = df['timestamp'].max()\n",
        "time_window = datetime.timedelta(days=365 * 1) # Example: Last 1 year\n",
        "start_time_window = latest_timestamp - time_window\n",
        "\n",
        "print(f\"\\nAnalyzing popular movies from {start_time_window} to {latest_timestamp}\")"
      ],
      "metadata": {
        "colab": {
          "base_uri": "https://localhost:8080/"
        },
        "id": "qGdGW1UyEQm3",
        "outputId": "aff5a710-02b0-494f-f990-fb1880562bdb"
      },
      "execution_count": 32,
      "outputs": [
        {
          "output_type": "stream",
          "name": "stdout",
          "text": [
            "\n",
            "Analyzing popular movies from 2008-01-06 05:02:16 to 2009-01-05 05:02:16\n"
          ]
        }
      ]
    },
    {
      "cell_type": "markdown",
      "source": [
        "Filter Recent Ratings"
      ],
      "metadata": {
        "id": "53lfJWABGbiR"
      }
    },
    {
      "cell_type": "code",
      "source": [
        "recent_ratings = df[df['timestamp'] >= start_time_window]"
      ],
      "metadata": {
        "id": "PyzZHuFlEQi2"
      },
      "execution_count": 33,
      "outputs": []
    },
    {
      "cell_type": "markdown",
      "source": [
        "Calculate Popularity Metrics for Each Movie"
      ],
      "metadata": {
        "id": "EocXPwh1GciM"
      }
    },
    {
      "cell_type": "code",
      "source": [
        "movie_stats = recent_ratings.groupby('movie_id').agg(\n",
        "    num_ratings=('rating', 'count'),\n",
        "    avg_rating=('rating', 'mean')\n",
        ").reset_index()\n",
        "\n",
        "# Merge with movie information to get titles and genres.\n",
        "popular_movies_df = pd.merge(movie_stats, movies, on='movie_id')"
      ],
      "metadata": {
        "id": "yg9ys2-8EP8S"
      },
      "execution_count": 34,
      "outputs": []
    },
    {
      "cell_type": "markdown",
      "source": [
        "Apply IMDb Weighted Rating Formula"
      ],
      "metadata": {
        "id": "22kIjK1xGdcx"
      }
    },
    {
      "cell_type": "code",
      "source": [
        "# Define 'm': minimum number of ratings required to be listed (e.g., movies in the top 20% by rating count).\n",
        "m = popular_movies_df['num_ratings'].quantile(0.80)\n",
        "print(f\"\\nMinimum number of ratings (m) for weighted average: {int(m)}\")\n",
        "\n",
        "# Calculate 'C': the global average rating across all movies in the filtered period.\n",
        "C = popular_movies_df['avg_rating'].mean()\n",
        "print(f\"Global average rating (C): {C:.2f}\")\n",
        "\n",
        "# Define the function to calculate the Weighted Rating (WR).\n",
        "def calculate_weighted_rating(row, m, C):\n",
        "    v = row['num_ratings']\n",
        "    R = row['avg_rating']\n",
        "    # If a movie has fewer ratings than 'm', its score is a blend with the global average.\n",
        "    # Otherwise, it uses the standard weighted average.\n",
        "    if v < m:\n",
        "        return (v / (v + m) * R) + (m / (v + m) * C)\n",
        "    else:\n",
        "        return (v / (v + m) * R) + (m / (v + m) * C)\n",
        "\n",
        "# Apply the weighted rating calculation to the DataFrame.\n",
        "popular_movies_df['weighted_rating'] = popular_movies_df.progress_apply(\n",
        "    lambda row: calculate_weighted_rating(row, m, C), axis=1\n",
        ")"
      ],
      "metadata": {
        "colab": {
          "base_uri": "https://localhost:8080/",
          "height": 101,
          "referenced_widgets": [
            "52b78c6e02e646609bed0cd342eb2435",
            "a4930db05fb1447fb064516918c6fd80",
            "59230f7e5376417aaa9ee65f8ba28835",
            "7d7ea168f4f249b496a39ae1d8d15ee7",
            "98d654ac801a457b8aabde8142a14db7",
            "e873e396291149a88e94dec84801dfd8",
            "0fc9234bacf04954baf73238866e542b",
            "53aab13b01ea4a769647739d8cb2f8ed",
            "3a2f9c7bc6194f3891913b0375bb4529",
            "f6f2eb481cf4472bba65982faffff34d",
            "4f32539b56cd4bf5b4276ed1939f2d23"
          ]
        },
        "id": "PfSQt9SDEP4Y",
        "outputId": "c7d2ca56-5cec-42d6-d3f9-205a9888f27e"
      },
      "execution_count": 35,
      "outputs": [
        {
          "output_type": "stream",
          "name": "stdout",
          "text": [
            "\n",
            "Minimum number of ratings (m) for weighted average: 73\n",
            "Global average rating (C): 3.22\n"
          ]
        },
        {
          "output_type": "display_data",
          "data": {
            "text/plain": [
              "  0%|          | 0/9708 [00:00<?, ?it/s]"
            ],
            "application/vnd.jupyter.widget-view+json": {
              "version_major": 2,
              "version_minor": 0,
              "model_id": "52b78c6e02e646609bed0cd342eb2435"
            }
          },
          "metadata": {}
        }
      ]
    },
    {
      "cell_type": "markdown",
      "source": [
        "Generate Dynamic Popularity-Based Recommendations"
      ],
      "metadata": {
        "id": "frXvX7rhGeQS"
      }
    },
    {
      "cell_type": "code",
      "source": [
        "dynamic_popular_recommendations = popular_movies_df.sort_values(\n",
        "    by='weighted_rating', ascending=False\n",
        ").head(20)\n",
        "\n",
        "print(\"\\n--- Dynamic Popularity-Based Recommendations (Top 20 Movies) ---\")\n",
        "print(dynamic_popular_recommendations[['title', 'genres', 'num_ratings', 'avg_rating', 'weighted_rating']])"
      ],
      "metadata": {
        "colab": {
          "base_uri": "https://localhost:8080/"
        },
        "id": "2NoQAbaCEP1B",
        "outputId": "42b7afca-3f54-440d-f468-cb5353cf6f24"
      },
      "execution_count": 36,
      "outputs": [
        {
          "output_type": "stream",
          "name": "stdout",
          "text": [
            "\n",
            "--- Dynamic Popularity-Based Recommendations (Top 20 Movies) ---\n",
            "                                                  title  \\\n",
            "281                    Shawshank Redemption, The (1994)   \n",
            "2517                                  Fight Club (1999)   \n",
            "49                           Usual Suspects, The (1995)   \n",
            "710                               Godfather, The (1972)   \n",
            "9246                            Dark Knight, The (2008)   \n",
            "263                                 Pulp Fiction (1994)   \n",
            "5216                City of God (Cidade de Deus) (2002)   \n",
            "2179                                 Matrix, The (1999)   \n",
            "8499  Lives of Others, The (Das Leben der Anderen) (...   \n",
            "4301  Amelie (Fabuleux destin d'Amélie Poulain, Le) ...   \n",
            "1010                     Godfather: Part II, The (1974)   \n",
            "261   Léon: The Professional (Léon) (Professional, T...   \n",
            "3623                                     Memento (2000)   \n",
            "1949                          American History X (1998)   \n",
            "46                          Seven (a.k.a. Se7en) (1995)   \n",
            "469                             Schindler's List (1993)   \n",
            "986   Star Wars: Episode V - The Empire Strikes Back...   \n",
            "1002                                  Goodfellas (1990)   \n",
            "984              One Flew Over the Cuckoo's Nest (1975)   \n",
            "1945         Life Is Beautiful (La Vita è bella) (1997)   \n",
            "\n",
            "                             genres  num_ratings  avg_rating  weighted_rating  \n",
            "281                           Drama         2502    4.409872         4.376138  \n",
            "2517    Action Crime Drama Thriller         2567    4.321387         4.290930  \n",
            "49           Crime Mystery Thriller         1805    4.323546         4.280647  \n",
            "710                     Crime Drama         1860    4.311559         4.270334  \n",
            "9246        Action Crime Drama IMAX         2598    4.294842         4.265464  \n",
            "263              Comedy Crime Drama         2523    4.272295         4.242702  \n",
            "5216             Action Crime Drama         1073    4.258621         4.192457  \n",
            "2179         Action Sci-Fi Thriller         2769    4.217046         4.191434  \n",
            "8499                          Drama          620    4.298387         4.184784  \n",
            "4301                 Comedy Romance         1686    4.206702         4.165751  \n",
            "1010                    Crime Drama         1173    4.222933         4.164170  \n",
            "261    Crime Drama Romance Thriller         1059    4.222852         4.158176  \n",
            "3623   Crime Drama Mystery Thriller         2029    4.179152         4.145840  \n",
            "1949                    Crime Drama         1614    4.187113         4.145261  \n",
            "46    Crime Horror Mystery Thriller         1774    4.167418         4.129970  \n",
            "469                       Drama War         1724    4.166183         4.127744  \n",
            "986         Action Adventure Sci-Fi         1799    4.162590         4.125831  \n",
            "1002                    Crime Drama         1166    4.169811         4.113846  \n",
            "984                    Comedy Drama         1315    4.162357         4.112792  \n",
            "1945       Comedy Drama Romance War          689    4.202467         4.108340  \n"
          ]
        }
      ]
    },
    {
      "cell_type": "markdown",
      "source": [
        "### Visualization of Dynamic Popularity"
      ],
      "metadata": {
        "id": "oQeX7hCmGfGP"
      }
    },
    {
      "cell_type": "code",
      "source": [
        "# Visualize the top 10 dynamically popular movies.\n",
        "plt.figure(figsize=(15, 8))\n",
        "sns.barplot(x='weighted_rating', y='title', data=dynamic_popular_recommendations.head(10), palette='viridis')\n",
        "plt.title(f'Top 10 Dynamically Popular Movies (Last 1 Year) with Weighted Rating')\n",
        "plt.xlabel('Weighted Rating Score')\n",
        "plt.ylabel('Movie Title')\n",
        "plt.tight_layout()\n",
        "plt.show()"
      ],
      "metadata": {
        "colab": {
          "base_uri": "https://localhost:8080/",
          "height": 888
        },
        "id": "B1_0BQacGiiZ",
        "outputId": "5f0c023a-1356-4d3e-f5da-0e6c106ceb9a"
      },
      "execution_count": 37,
      "outputs": [
        {
          "output_type": "stream",
          "name": "stderr",
          "text": [
            "/tmp/ipython-input-37-1210586776.py:3: FutureWarning: \n",
            "\n",
            "Passing `palette` without assigning `hue` is deprecated and will be removed in v0.14.0. Assign the `y` variable to `hue` and set `legend=False` for the same effect.\n",
            "\n",
            "  sns.barplot(x='weighted_rating', y='title', data=dynamic_popular_recommendations.head(10), palette='viridis')\n"
          ]
        },
        {
          "output_type": "display_data",
          "data": {
            "text/plain": [
              "<Figure size 1500x800 with 1 Axes>"
            ],
            "image/png": "[encoded data removed]"
          },
          "metadata": {}
        }
      ]
    },
    {
      "cell_type": "markdown",
      "source": [
        "### Recommendation Function for General Use"
      ],
      "metadata": {
        "id": "F7-STvQ-GhsX"
      }
    },
    {
      "cell_type": "code",
      "source": [
        "# Define a function to easily retrieve dynamic popular recommendations for a general user.\n",
        "def get_dynamic_popular_recommendations(num_recommendations=10):\n",
        "    return dynamic_popular_recommendations.head(num_recommendations)[['title', 'genres', 'weighted_rating']]\n",
        "\n",
        "print(\"\\n--- Dynamic Popular Recommendations for General Users ---\")\n",
        "get_dynamic_popular_recommendations(10)"
      ],
      "metadata": {
        "colab": {
          "base_uri": "https://localhost:8080/",
          "height": 397
        },
        "id": "QLEKPzw7EPui",
        "outputId": "140b10f2-baf4-4e31-9a37-66ed62df8beb"
      },
      "execution_count": 38,
      "outputs": [
        {
          "output_type": "stream",
          "name": "stdout",
          "text": [
            "\n",
            "--- Dynamic Popular Recommendations for General Users ---\n"
          ]
        },
        {
          "output_type": "execute_result",
          "data": {
            "text/plain": [
              "                                                  title  \\\n",
              "281                    Shawshank Redemption, The (1994)   \n",
              "2517                                  Fight Club (1999)   \n",
              "49                           Usual Suspects, The (1995)   \n",
              "710                               Godfather, The (1972)   \n",
              "9246                            Dark Knight, The (2008)   \n",
              "263                                 Pulp Fiction (1994)   \n",
              "5216                City of God (Cidade de Deus) (2002)   \n",
              "2179                                 Matrix, The (1999)   \n",
              "8499  Lives of Others, The (Das Leben der Anderen) (...   \n",
              "4301  Amelie (Fabuleux destin d'Amélie Poulain, Le) ...   \n",
              "\n",
              "                           genres  weighted_rating  \n",
              "281                         Drama         4.376138  \n",
              "2517  Action Crime Drama Thriller         4.290930  \n",
              "49         Crime Mystery Thriller         4.280647  \n",
              "710                   Crime Drama         4.270334  \n",
              "9246      Action Crime Drama IMAX         4.265464  \n",
              "263            Comedy Crime Drama         4.242702  \n",
              "5216           Action Crime Drama         4.192457  \n",
              "2179       Action Sci-Fi Thriller         4.191434  \n",
              "8499                        Drama         4.184784  \n",
              "4301               Comedy Romance         4.165751  "
            ],
            "text/html": [
              "\n",
              "  <div id=\"df-a08747d9-9cdf-4e14-b82f-3afd720f12bb\" class=\"colab-df-container\">\n",
              "    <div>\n",
              "<style scoped>\n",
              "    .dataframe tbody tr th:only-of-type {\n",
              "        vertical-align: middle;\n",
              "    }\n",
              "\n",
              "    .dataframe tbody tr th {\n",
              "        vertical-align: top;\n",
              "    }\n",
              "\n",
              "    .dataframe thead th {\n",
              "        text-align: right;\n",
              "    }\n",
              "</style>\n",
              "<table border=\"1\" class=\"dataframe\">\n",
              "  <thead>\n",
              "    <tr style=\"text-align: right;\">\n",
              "      <th></th>\n",
              "      <th>title</th>\n",
              "      <th>genres</th>\n",
              "      <th>weighted_rating</th>\n",
              "    </tr>\n",
              "  </thead>\n",
              "  <tbody>\n",
              "    <tr>\n",
              "      <th>281</th>\n",
              "      <td>Shawshank Redemption, The (1994)</td>\n",
              "      <td>Drama</td>\n",
              "      <td>4.376138</td>\n",
              "    </tr>\n",
              "    <tr>\n",
              "      <th>2517</th>\n",
              "      <td>Fight Club (1999)</td>\n",
              "      <td>Action Crime Drama Thriller</td>\n",
              "      <td>4.290930</td>\n",
              "    </tr>\n",
              "    <tr>\n",
              "      <th>49</th>\n",
              "      <td>Usual Suspects, The (1995)</td>\n",
              "      <td>Crime Mystery Thriller</td>\n",
              "      <td>4.280647</td>\n",
              "    </tr>\n",
              "    <tr>\n",
              "      <th>710</th>\n",
              "      <td>Godfather, The (1972)</td>\n",
              "      <td>Crime Drama</td>\n",
              "      <td>4.270334</td>\n",
              "    </tr>\n",
              "    <tr>\n",
              "      <th>9246</th>\n",
              "      <td>Dark Knight, The (2008)</td>\n",
              "      <td>Action Crime Drama IMAX</td>\n",
              "      <td>4.265464</td>\n",
              "    </tr>\n",
              "    <tr>\n",
              "      <th>263</th>\n",
              "      <td>Pulp Fiction (1994)</td>\n",
              "      <td>Comedy Crime Drama</td>\n",
              "      <td>4.242702</td>\n",
              "    </tr>\n",
              "    <tr>\n",
              "      <th>5216</th>\n",
              "      <td>City of God (Cidade de Deus) (2002)</td>\n",
              "      <td>Action Crime Drama</td>\n",
              "      <td>4.192457</td>\n",
              "    </tr>\n",
              "    <tr>\n",
              "      <th>2179</th>\n",
              "      <td>Matrix, The (1999)</td>\n",
              "      <td>Action Sci-Fi Thriller</td>\n",
              "      <td>4.191434</td>\n",
              "    </tr>\n",
              "    <tr>\n",
              "      <th>8499</th>\n",
              "      <td>Lives of Others, The (Das Leben der Anderen) (...</td>\n",
              "      <td>Drama</td>\n",
              "      <td>4.184784</td>\n",
              "    </tr>\n",
              "    <tr>\n",
              "      <th>4301</th>\n",
              "      <td>Amelie (Fabuleux destin d'Amélie Poulain, Le) ...</td>\n",
              "      <td>Comedy Romance</td>\n",
              "      <td>4.165751</td>\n",
              "    </tr>\n",
              "  </tbody>\n",
              "</table>\n",
              "</div>\n",
              "    <div class=\"colab-df-buttons\">\n",
              "\n",
              "  <div class=\"colab-df-container\">\n",
              "    <button class=\"colab-df-convert\" onclick=\"convertToInteractive('df-a08747d9-9cdf-4e14-b82f-3afd720f12bb')\"\n",
              "            title=\"Convert this dataframe to an interactive table.\"\n",
              "            style=\"display:none;\">\n",
              "\n",
              "  <svg xmlns=\"http://www.w3.org/2000/svg\" height=\"24px\" viewBox=\"0 -960 960 960\">\n",
              "    <path d=\"M120-120v-720h720v720H120Zm60-500h600v-160H180v160Zm220 220h160v-160H400v160Zm0 220h160v-160H400v160ZM180-400h160v-160H180v160Zm440 0h160v-160H620v160ZM180-180h160v-160H180v160Zm440 0h160v-160H620v160Z\"/>\n",
              "  </svg>\n",
              "    </button>\n",
              "\n",
              "  <style>\n",
              "    .colab-df-container {\n",
              "      display:flex;\n",
              "      gap: 12px;\n",
              "    }\n",
              "\n",
              "    .colab-df-convert {\n",
              "      background-color: #E8F0FE;\n",
              "      border: none;\n",
              "      border-radius: 50%;\n",
              "      cursor: pointer;\n",
              "      display: none;\n",
              "      fill: #1967D2;\n",
              "      height: 32px;\n",
              "      padding: 0 0 0 0;\n",
              "      width: 32px;\n",
              "    }\n",
              "\n",
              "    .colab-df-convert:hover {\n",
              "      background-color: #E2EBFA;\n",
              "      box-shadow: 0px 1px 2px rgba(60, 64, 67, 0.3), 0px 1px 3px 1px rgba(60, 64, 67, 0.15);\n",
              "      fill: #174EA6;\n",
              "    }\n",
              "\n",
              "    .colab-df-buttons div {\n",
              "      margin-bottom: 4px;\n",
              "    }\n",
              "\n",
              "    [theme=dark] .colab-df-convert {\n",
              "      background-color: #3B4455;\n",
              "      fill: #D2E3FC;\n",
              "    }\n",
              "\n",
              "    [theme=dark] .colab-df-convert:hover {\n",
              "      background-color: #434B5C;\n",
              "      box-shadow: 0px 1px 3px 1px rgba(0, 0, 0, 0.15);\n",
              "      filter: drop-shadow(0px 1px 2px rgba(0, 0, 0, 0.3));\n",
              "      fill: #FFFFFF;\n",
              "    }\n",
              "  </style>\n",
              "\n",
              "    <script>\n",
              "      const buttonEl =\n",
              "        document.querySelector('#df-a08747d9-9cdf-4e14-b82f-3afd720f12bb button.colab-df-convert');\n",
              "      buttonEl.style.display =\n",
              "        google.colab.kernel.accessAllowed ? 'block' : 'none';\n",
              "\n",
              "      async function convertToInteractive(key) {\n",
              "        const element = document.querySelector('#df-a08747d9-9cdf-4e14-b82f-3afd720f12bb');\n",
              "        const dataTable =\n",
              "          await google.colab.kernel.invokeFunction('convertToInteractive',\n",
              "                                                    [key], {});\n",
              "        if (!dataTable) return;\n",
              "\n",
              "        const docLinkHtml = 'Like what you see? Visit the ' +\n",
              "          '<a target=\"_blank\" href=https://colab.research.google.com/notebooks/data_table.ipynb>data table notebook</a>'\n",
              "          + ' to learn more about interactive tables.';\n",
              "        element.innerHTML = '';\n",
              "        dataTable['output_type'] = 'display_data';\n",
              "        await google.colab.output.renderOutput(dataTable, element);\n",
              "        const docLink = document.createElement('div');\n",
              "        docLink.innerHTML = docLinkHtml;\n",
              "        element.appendChild(docLink);\n",
              "      }\n",
              "    </script>\n",
              "  </div>\n",
              "\n",
              "\n",
              "    <div id=\"df-ac3f4a15-eb28-43f4-adfb-304ce9477181\">\n",
              "      <button class=\"colab-df-quickchart\" onclick=\"quickchart('df-ac3f4a15-eb28-43f4-adfb-304ce9477181')\"\n",
              "                title=\"Suggest charts\"\n",
              "                style=\"display:none;\">\n",
              "\n",
              "<svg xmlns=\"http://www.w3.org/2000/svg\" height=\"24px\"viewBox=\"0 0 24 24\"\n",
              "     width=\"24px\">\n",
              "    <g>\n",
              "        <path d=\"M19 3H5c-1.1 0-2 .9-2 2v14c0 1.1.9 2 2 2h14c1.1 0 2-.9 2-2V5c0-1.1-.9-2-2-2zM9 17H7v-7h2v7zm4 0h-2V7h2v10zm4 0h-2v-4h2v4z\"/>\n",
              "    </g>\n",
              "</svg>\n",
              "      </button>\n",
              "\n",
              "<style>\n",
              "  .colab-df-quickchart {\n",
              "      --bg-color: #E8F0FE;\n",
              "      --fill-color: #1967D2;\n",
              "      --hover-bg-color: #E2EBFA;\n",
              "      --hover-fill-color: #174EA6;\n",
              "      --disabled-fill-color: #AAA;\n",
              "      --disabled-bg-color: #DDD;\n",
              "  }\n",
              "\n",
              "  [theme=dark] .colab-df-quickchart {\n",
              "      --bg-color: #3B4455;\n",
              "      --fill-color: #D2E3FC;\n",
              "      --hover-bg-color: #434B5C;\n",
              "      --hover-fill-color: #FFFFFF;\n",
              "      --disabled-bg-color: #3B4455;\n",
              "      --disabled-fill-color: #666;\n",
              "  }\n",
              "\n",
              "  .colab-df-quickchart {\n",
              "    background-color: var(--bg-color);\n",
              "    border: none;\n",
              "    border-radius: 50%;\n",
              "    cursor: pointer;\n",
              "    display: none;\n",
              "    fill: var(--fill-color);\n",
              "    height: 32px;\n",
              "    padding: 0;\n",
              "    width: 32px;\n",
              "  }\n",
              "\n",
              "  .colab-df-quickchart:hover {\n",
              "    background-color: var(--hover-bg-color);\n",
              "    box-shadow: 0 1px 2px rgba(60, 64, 67, 0.3), 0 1px 3px 1px rgba(60, 64, 67, 0.15);\n",
              "    fill: var(--button-hover-fill-color);\n",
              "  }\n",
              "\n",
              "  .colab-df-quickchart-complete:disabled,\n",
              "  .colab-df-quickchart-complete:disabled:hover {\n",
              "    background-color: var(--disabled-bg-color);\n",
              "    fill: var(--disabled-fill-color);\n",
              "    box-shadow: none;\n",
              "  }\n",
              "\n",
              "  .colab-df-spinner {\n",
              "    border: 2px solid var(--fill-color);\n",
              "    border-color: transparent;\n",
              "    border-bottom-color: var(--fill-color);\n",
              "    animation:\n",
              "      spin 1s steps(1) infinite;\n",
              "  }\n",
              "\n",
              "  @keyframes spin {\n",
              "    0% {\n",
              "      border-color: transparent;\n",
              "      border-bottom-color: var(--fill-color);\n",
              "      border-left-color: var(--fill-color);\n",
              "    }\n",
              "    20% {\n",
              "      border-color: transparent;\n",
              "      border-left-color: var(--fill-color);\n",
              "      border-top-color: var(--fill-color);\n",
              "    }\n",
              "    30% {\n",
              "      border-color: transparent;\n",
              "      border-left-color: var(--fill-color);\n",
              "      border-top-color: var(--fill-color);\n",
              "      border-right-color: var(--fill-color);\n",
              "    }\n",
              "    40% {\n",
              "      border-color: transparent;\n",
              "      border-right-color: var(--fill-color);\n",
              "      border-top-color: var(--fill-color);\n",
              "    }\n",
              "    60% {\n",
              "      border-color: transparent;\n",
              "      border-right-color: var(--fill-color);\n",
              "    }\n",
              "    80% {\n",
              "      border-color: transparent;\n",
              "      border-right-color: var(--fill-color);\n",
              "      border-bottom-color: var(--fill-color);\n",
              "    }\n",
              "    90% {\n",
              "      border-color: transparent;\n",
              "      border-bottom-color: var(--fill-color);\n",
              "    }\n",
              "  }\n",
              "</style>\n",
              "\n",
              "      <script>\n",
              "        async function quickchart(key) {\n",
              "          const quickchartButtonEl =\n",
              "            document.querySelector('#' + key + ' button');\n",
              "          quickchartButtonEl.disabled = true;  // To prevent multiple clicks.\n",
              "          quickchartButtonEl.classList.add('colab-df-spinner');\n",
              "          try {\n",
              "            const charts = await google.colab.kernel.invokeFunction(\n",
              "                'suggestCharts', [key], {});\n",
              "          } catch (error) {\n",
              "            console.error('Error during call to suggestCharts:', error);\n",
              "          }\n",
              "          quickchartButtonEl.classList.remove('colab-df-spinner');\n",
              "          quickchartButtonEl.classList.add('colab-df-quickchart-complete');\n",
              "        }\n",
              "        (() => {\n",
              "          let quickchartButtonEl =\n",
              "            document.querySelector('#df-ac3f4a15-eb28-43f4-adfb-304ce9477181 button');\n",
              "          quickchartButtonEl.style.display =\n",
              "            google.colab.kernel.accessAllowed ? 'block' : 'none';\n",
              "        })();\n",
              "      </script>\n",
              "    </div>\n",
              "\n",
              "    </div>\n",
              "  </div>\n"
            ],
            "application/vnd.google.colaboratory.intrinsic+json": {
              "type": "dataframe",
              "summary": "{\n  \"name\": \"get_dynamic_popular_recommendations(10)\",\n  \"rows\": 10,\n  \"fields\": [\n    {\n      \"column\": \"title\",\n      \"properties\": {\n        \"dtype\": \"string\",\n        \"num_unique_values\": 10,\n        \"samples\": [\n          \"Lives of Others, The (Das Leben der Anderen) (2006)\",\n          \"Fight Club (1999)\",\n          \"Pulp Fiction (1994)\"\n        ],\n        \"semantic_type\": \"\",\n        \"description\": \"\"\n      }\n    },\n    {\n      \"column\": \"genres\",\n      \"properties\": {\n        \"dtype\": \"string\",\n        \"num_unique_values\": 9,\n        \"samples\": [\n          \"Action Sci-Fi Thriller\",\n          \"Action Crime Drama Thriller\",\n          \"Comedy Crime Drama\"\n        ],\n        \"semantic_type\": \"\",\n        \"description\": \"\"\n      }\n    },\n    {\n      \"column\": \"weighted_rating\",\n      \"properties\": {\n        \"dtype\": \"number\",\n        \"std\": 0.06426382779878871,\n        \"min\": 4.1657506343656605,\n        \"max\": 4.376138006155028,\n        \"num_unique_values\": 10,\n        \"samples\": [\n          4.184784077704468,\n          4.290930062821666,\n          4.242702375134513\n        ],\n        \"semantic_type\": \"\",\n        \"description\": \"\"\n      }\n    }\n  ]\n}"
            }
          },
          "metadata": {},
          "execution_count": 38
        }
      ]
    },
    {
      "cell_type": "code",
      "source": [],
      "metadata": {
        "id": "Cb_NMsxJEPpa"
      },
      "execution_count": 38,
      "outputs": []
    },
    {
      "cell_type": "markdown",
      "source": [
        "# Conclusion and Analysis\n",
        "\n",
        "Setelah menjalankan kedua bagian di atas, kamu bisa menulis kesimpulan di sini.\n",
        "Bandingkan jenis rekomendasi yang dihasilkan oleh masing-masing model.\n",
        "- Content-Based: Fokus pada kemiripan kata kunci judul film.\n",
        "- Collaborative Filtering (Popularitas Dinamis): Fokus pada tren popularitas terbaru berdasarkan rating.\n",
        "\n",
        "Contoh:\n",
        "\"Dari hasil Content-Based Filtering, terlihat bahwa rekomendasi didasarkan pada kata kunci dalam judul.\n",
        "Film-film yang direkomendasikan memiliki tema atau subjek yang mirip dengan film input,\n",
        "yang ditangkap melalui analisis TF-IDF pada judul.\n",
        "Sementara itu, Dynamic Popularity-Based Collaborative Filtering memberikan daftar film yang sedang naik daun\n",
        "berdasarkan interaksi rating terbaru dari komunitas pengguna. Rekomendasi ini bersifat umum dan cocok\n",
        "untuk menemukan tren atau untuk pengguna baru.\""
      ],
      "metadata": {
        "id": "VUeNDTG3tmfZ"
      }
    }
  ],
  "metadata": {
    "accelerator": "GPU",
    "colab": {
      "gpuType": "T4",
      "provenance": []
    },
    "kernelspec": {
      "display_name": "Python 3",
      "name": "python3"
    },
    "language_info": {
      "name": "python"
    },
    "widgets": {
      "application/vnd.jupyter.widget-state+json": {
        "f33dfa8f3b804643b997a000dffaa3ef": {
          "model_module": "@jupyter-widgets/controls",
          "model_name": "HBoxModel",
          "model_module_version": "1.5.0",
          "state": {
            "_dom_classes": [],
            "_model_module": "@jupyter-widgets/controls",
            "_model_module_version": "1.5.0",
            "_model_name": "HBoxModel",
            "_view_count": null,
            "_view_module": "@jupyter-widgets/controls",
            "_view_module_version": "1.5.0",
            "_view_name": "HBoxView",
            "box_style": "",
            "children": [
              "IPY_MODEL_4a3c3401e4494638b82a6aedaf8bea9c",
              "IPY_MODEL_4cb99ec81ace4f61b0f829996974e291",
              "IPY_MODEL_3dfaa1ef59de4a6aa4841ff904434244"
            ],
            "layout": "IPY_MODEL_96bdbd7add8445dda5014566737b8323"
          }
        },
        "4a3c3401e4494638b82a6aedaf8bea9c": {
          "model_module": "@jupyter-widgets/controls",
          "model_name": "HTMLModel",
          "model_module_version": "1.5.0",
          "state": {
            "_dom_classes": [],
            "_model_module": "@jupyter-widgets/controls",
            "_model_module_version": "1.5.0",
            "_model_name": "HTMLModel",
            "_view_count": null,
            "_view_module": "@jupyter-widgets/controls",
            "_view_module_version": "1.5.0",
            "_view_name": "HTMLView",
            "description": "",
            "description_tooltip": null,
            "layout": "IPY_MODEL_380b0a4ef71c4abba25e9bb3b5b37b88",
            "placeholder": "​",
            "style": "IPY_MODEL_d9468c90e51b4f80a3670599ae35a9bf",
            "value": "Evaluating CBF: 100%"
          }
        },
        "4cb99ec81ace4f61b0f829996974e291": {
          "model_module": "@jupyter-widgets/controls",
          "model_name": "FloatProgressModel",
          "model_module_version": "1.5.0",
          "state": {
            "_dom_classes": [],
            "_model_module": "@jupyter-widgets/controls",
            "_model_module_version": "1.5.0",
            "_model_name": "FloatProgressModel",
            "_view_count": null,
            "_view_module": "@jupyter-widgets/controls",
            "_view_module_version": "1.5.0",
            "_view_name": "ProgressView",
            "bar_style": "success",
            "description": "",
            "description_tooltip": null,
            "layout": "IPY_MODEL_52f14d9149d64e4194191711f847eef2",
            "max": 100,
            "min": 0,
            "orientation": "horizontal",
            "style": "IPY_MODEL_fdaf785f63514776a748fe68ca398755",
            "value": 100
          }
        },
        "3dfaa1ef59de4a6aa4841ff904434244": {
          "model_module": "@jupyter-widgets/controls",
          "model_name": "HTMLModel",
          "model_module_version": "1.5.0",
          "state": {
            "_dom_classes": [],
            "_model_module": "@jupyter-widgets/controls",
            "_model_module_version": "1.5.0",
            "_model_name": "HTMLModel",
            "_view_count": null,
            "_view_module": "@jupyter-widgets/controls",
            "_view_module_version": "1.5.0",
            "_view_name": "HTMLView",
            "description": "",
            "description_tooltip": null,
            "layout": "IPY_MODEL_b19138eb01c24ccdb330ba94d75f7c4a",
            "placeholder": "​",
            "style": "IPY_MODEL_94234f8329b04885bec2af4fa0eaa347",
            "value": " 100/100 [00:03&lt;00:00, 23.57it/s]"
          }
        },
        "96bdbd7add8445dda5014566737b8323": {
          "model_module": "@jupyter-widgets/base",
          "model_name": "LayoutModel",
          "model_module_version": "1.2.0",
          "state": {
            "_model_module": "@jupyter-widgets/base",
            "_model_module_version": "1.2.0",
            "_model_name": "LayoutModel",
            "_view_count": null,
            "_view_module": "@jupyter-widgets/base",
            "_view_module_version": "1.2.0",
            "_view_name": "LayoutView",
            "align_content": null,
            "align_items": null,
            "align_self": null,
            "border": null,
            "bottom": null,
            "display": null,
            "flex": null,
            "flex_flow": null,
            "grid_area": null,
            "grid_auto_columns": null,
            "grid_auto_flow": null,
            "grid_auto_rows": null,
            "grid_column": null,
            "grid_gap": null,
            "grid_row": null,
            "grid_template_areas": null,
            "grid_template_columns": null,
            "grid_template_rows": null,
            "height": null,
            "justify_content": null,
            "justify_items": null,
            "left": null,
            "margin": null,
            "max_height": null,
            "max_width": null,
            "min_height": null,
            "min_width": null,
            "object_fit": null,
            "object_position": null,
            "order": null,
            "overflow": null,
            "overflow_x": null,
            "overflow_y": null,
            "padding": null,
            "right": null,
            "top": null,
            "visibility": null,
            "width": null
          }
        },
        "380b0a4ef71c4abba25e9bb3b5b37b88": {
          "model_module": "@jupyter-widgets/base",
          "model_name": "LayoutModel",
          "model_module_version": "1.2.0",
          "state": {
            "_model_module": "@jupyter-widgets/base",
            "_model_module_version": "1.2.0",
            "_model_name": "LayoutModel",
            "_view_count": null,
            "_view_module": "@jupyter-widgets/base",
            "_view_module_version": "1.2.0",
            "_view_name": "LayoutView",
            "align_content": null,
            "align_items": null,
            "align_self": null,
            "border": null,
            "bottom": null,
            "display": null,
            "flex": null,
            "flex_flow": null,
            "grid_area": null,
            "grid_auto_columns": null,
            "grid_auto_flow": null,
            "grid_auto_rows": null,
            "grid_column": null,
            "grid_gap": null,
            "grid_row": null,
            "grid_template_areas": null,
            "grid_template_columns": null,
            "grid_template_rows": null,
            "height": null,
            "justify_content": null,
            "justify_items": null,
            "left": null,
            "margin": null,
            "max_height": null,
            "max_width": null,
            "min_height": null,
            "min_width": null,
            "object_fit": null,
            "object_position": null,
            "order": null,
            "overflow": null,
            "overflow_x": null,
            "overflow_y": null,
            "padding": null,
            "right": null,
            "top": null,
            "visibility": null,
            "width": null
          }
        },
        "d9468c90e51b4f80a3670599ae35a9bf": {
          "model_module": "@jupyter-widgets/controls",
          "model_name": "DescriptionStyleModel",
          "model_module_version": "1.5.0",
          "state": {
            "_model_module": "@jupyter-widgets/controls",
            "_model_module_version": "1.5.0",
            "_model_name": "DescriptionStyleModel",
            "_view_count": null,
            "_view_module": "@jupyter-widgets/base",
            "_view_module_version": "1.2.0",
            "_view_name": "StyleView",
            "description_width": ""
          }
        },
        "52f14d9149d64e4194191711f847eef2": {
          "model_module": "@jupyter-widgets/base",
          "model_name": "LayoutModel",
          "model_module_version": "1.2.0",
          "state": {
            "_model_module": "@jupyter-widgets/base",
            "_model_module_version": "1.2.0",
            "_model_name": "LayoutModel",
            "_view_count": null,
            "_view_module": "@jupyter-widgets/base",
            "_view_module_version": "1.2.0",
            "_view_name": "LayoutView",
            "align_content": null,
            "align_items": null,
            "align_self": null,
            "border": null,
            "bottom": null,
            "display": null,
            "flex": null,
            "flex_flow": null,
            "grid_area": null,
            "grid_auto_columns": null,
            "grid_auto_flow": null,
            "grid_auto_rows": null,
            "grid_column": null,
            "grid_gap": null,
            "grid_row": null,
            "grid_template_areas": null,
            "grid_template_columns": null,
            "grid_template_rows": null,
            "height": null,
            "justify_content": null,
            "justify_items": null,
            "left": null,
            "margin": null,
            "max_height": null,
            "max_width": null,
            "min_height": null,
            "min_width": null,
            "object_fit": null,
            "object_position": null,
            "order": null,
            "overflow": null,
            "overflow_x": null,
            "overflow_y": null,
            "padding": null,
            "right": null,
            "top": null,
            "visibility": null,
            "width": null
          }
        },
        "fdaf785f63514776a748fe68ca398755": {
          "model_module": "@jupyter-widgets/controls",
          "model_name": "ProgressStyleModel",
          "model_module_version": "1.5.0",
          "state": {
            "_model_module": "@jupyter-widgets/controls",
            "_model_module_version": "1.5.0",
            "_model_name": "ProgressStyleModel",
            "_view_count": null,
            "_view_module": "@jupyter-widgets/base",
            "_view_module_version": "1.2.0",
            "_view_name": "StyleView",
            "bar_color": null,
            "description_width": ""
          }
        },
        "b19138eb01c24ccdb330ba94d75f7c4a": {
          "model_module": "@jupyter-widgets/base",
          "model_name": "LayoutModel",
          "model_module_version": "1.2.0",
          "state": {
            "_model_module": "@jupyter-widgets/base",
            "_model_module_version": "1.2.0",
            "_model_name": "LayoutModel",
            "_view_count": null,
            "_view_module": "@jupyter-widgets/base",
            "_view_module_version": "1.2.0",
            "_view_name": "LayoutView",
            "align_content": null,
            "align_items": null,
            "align_self": null,
            "border": null,
            "bottom": null,
            "display": null,
            "flex": null,
            "flex_flow": null,
            "grid_area": null,
            "grid_auto_columns": null,
            "grid_auto_flow": null,
            "grid_auto_rows": null,
            "grid_column": null,
            "grid_gap": null,
            "grid_row": null,
            "grid_template_areas": null,
            "grid_template_columns": null,
            "grid_template_rows": null,
            "height": null,
            "justify_content": null,
            "justify_items": null,
            "left": null,
            "margin": null,
            "max_height": null,
            "max_width": null,
            "min_height": null,
            "min_width": null,
            "object_fit": null,
            "object_position": null,
            "order": null,
            "overflow": null,
            "overflow_x": null,
            "overflow_y": null,
            "padding": null,
            "right": null,
            "top": null,
            "visibility": null,
            "width": null
          }
        },
        "94234f8329b04885bec2af4fa0eaa347": {
          "model_module": "@jupyter-widgets/controls",
          "model_name": "DescriptionStyleModel",
          "model_module_version": "1.5.0",
          "state": {
            "_model_module": "@jupyter-widgets/controls",
            "_model_module_version": "1.5.0",
            "_model_name": "DescriptionStyleModel",
            "_view_count": null,
            "_view_module": "@jupyter-widgets/base",
            "_view_module_version": "1.2.0",
            "_view_name": "StyleView",
            "description_width": ""
          }
        },
        "52b78c6e02e646609bed0cd342eb2435": {
          "model_module": "@jupyter-widgets/controls",
          "model_name": "HBoxModel",
          "model_module_version": "1.5.0",
          "state": {
            "_dom_classes": [],
            "_model_module": "@jupyter-widgets/controls",
            "_model_module_version": "1.5.0",
            "_model_name": "HBoxModel",
            "_view_count": null,
            "_view_module": "@jupyter-widgets/controls",
            "_view_module_version": "1.5.0",
            "_view_name": "HBoxView",
            "box_style": "",
            "children": [
              "IPY_MODEL_a4930db05fb1447fb064516918c6fd80",
              "IPY_MODEL_59230f7e5376417aaa9ee65f8ba28835",
              "IPY_MODEL_7d7ea168f4f249b496a39ae1d8d15ee7"
            ],
            "layout": "IPY_MODEL_98d654ac801a457b8aabde8142a14db7"
          }
        },
        "a4930db05fb1447fb064516918c6fd80": {
          "model_module": "@jupyter-widgets/controls",
          "model_name": "HTMLModel",
          "model_module_version": "1.5.0",
          "state": {
            "_dom_classes": [],
            "_model_module": "@jupyter-widgets/controls",
            "_model_module_version": "1.5.0",
            "_model_name": "HTMLModel",
            "_view_count": null,
            "_view_module": "@jupyter-widgets/controls",
            "_view_module_version": "1.5.0",
            "_view_name": "HTMLView",
            "description": "",
            "description_tooltip": null,
            "layout": "IPY_MODEL_e873e396291149a88e94dec84801dfd8",
            "placeholder": "​",
            "style": "IPY_MODEL_0fc9234bacf04954baf73238866e542b",
            "value": "100%"
          }
        },
        "59230f7e5376417aaa9ee65f8ba28835": {
          "model_module": "@jupyter-widgets/controls",
          "model_name": "FloatProgressModel",
          "model_module_version": "1.5.0",
          "state": {
            "_dom_classes": [],
            "_model_module": "@jupyter-widgets/controls",
            "_model_module_version": "1.5.0",
            "_model_name": "FloatProgressModel",
            "_view_count": null,
            "_view_module": "@jupyter-widgets/controls",
            "_view_module_version": "1.5.0",
            "_view_name": "ProgressView",
            "bar_style": "success",
            "description": "",
            "description_tooltip": null,
            "layout": "IPY_MODEL_53aab13b01ea4a769647739d8cb2f8ed",
            "max": 9708,
            "min": 0,
            "orientation": "horizontal",
            "style": "IPY_MODEL_3a2f9c7bc6194f3891913b0375bb4529",
            "value": 9708
          }
        },
        "7d7ea168f4f249b496a39ae1d8d15ee7": {
          "model_module": "@jupyter-widgets/controls",
          "model_name": "HTMLModel",
          "model_module_version": "1.5.0",
          "state": {
            "_dom_classes": [],
            "_model_module": "@jupyter-widgets/controls",
            "_model_module_version": "1.5.0",
            "_model_name": "HTMLModel",
            "_view_count": null,
            "_view_module": "@jupyter-widgets/controls",
            "_view_module_version": "1.5.0",
            "_view_name": "HTMLView",
            "description": "",
            "description_tooltip": null,
            "layout": "IPY_MODEL_f6f2eb481cf4472bba65982faffff34d",
            "placeholder": "​",
            "style": "IPY_MODEL_4f32539b56cd4bf5b4276ed1939f2d23",
            "value": " 9708/9708 [00:00&lt;00:00, 38506.00it/s]"
          }
        },
        "98d654ac801a457b8aabde8142a14db7": {
          "model_module": "@jupyter-widgets/base",
          "model_name": "LayoutModel",
          "model_module_version": "1.2.0",
          "state": {
            "_model_module": "@jupyter-widgets/base",
            "_model_module_version": "1.2.0",
            "_model_name": "LayoutModel",
            "_view_count": null,
            "_view_module": "@jupyter-widgets/base",
            "_view_module_version": "1.2.0",
            "_view_name": "LayoutView",
            "align_content": null,
            "align_items": null,
            "align_self": null,
            "border": null,
            "bottom": null,
            "display": null,
            "flex": null,
            "flex_flow": null,
            "grid_area": null,
            "grid_auto_columns": null,
            "grid_auto_flow": null,
            "grid_auto_rows": null,
            "grid_column": null,
            "grid_gap": null,
            "grid_row": null,
            "grid_template_areas": null,
            "grid_template_columns": null,
            "grid_template_rows": null,
            "height": null,
            "justify_content": null,
            "justify_items": null,
            "left": null,
            "margin": null,
            "max_height": null,
            "max_width": null,
            "min_height": null,
            "min_width": null,
            "object_fit": null,
            "object_position": null,
            "order": null,
            "overflow": null,
            "overflow_x": null,
            "overflow_y": null,
            "padding": null,
            "right": null,
            "top": null,
            "visibility": null,
            "width": null
          }
        },
        "e873e396291149a88e94dec84801dfd8": {
          "model_module": "@jupyter-widgets/base",
          "model_name": "LayoutModel",
          "model_module_version": "1.2.0",
          "state": {
            "_model_module": "@jupyter-widgets/base",
            "_model_module_version": "1.2.0",
            "_model_name": "LayoutModel",
            "_view_count": null,
            "_view_module": "@jupyter-widgets/base",
            "_view_module_version": "1.2.0",
            "_view_name": "LayoutView",
            "align_content": null,
            "align_items": null,
            "align_self": null,
            "border": null,
            "bottom": null,
            "display": null,
            "flex": null,
            "flex_flow": null,
            "grid_area": null,
            "grid_auto_columns": null,
            "grid_auto_flow": null,
            "grid_auto_rows": null,
            "grid_column": null,
            "grid_gap": null,
            "grid_row": null,
            "grid_template_areas": null,
            "grid_template_columns": null,
            "grid_template_rows": null,
            "height": null,
            "justify_content": null,
            "justify_items": null,
            "left": null,
            "margin": null,
            "max_height": null,
            "max_width": null,
            "min_height": null,
            "min_width": null,
            "object_fit": null,
            "object_position": null,
            "order": null,
            "overflow": null,
            "overflow_x": null,
            "overflow_y": null,
            "padding": null,
            "right": null,
            "top": null,
            "visibility": null,
            "width": null
          }
        },
        "0fc9234bacf04954baf73238866e542b": {
          "model_module": "@jupyter-widgets/controls",
          "model_name": "DescriptionStyleModel",
          "model_module_version": "1.5.0",
          "state": {
            "_model_module": "@jupyter-widgets/controls",
            "_model_module_version": "1.5.0",
            "_model_name": "DescriptionStyleModel",
            "_view_count": null,
            "_view_module": "@jupyter-widgets/base",
            "_view_module_version": "1.2.0",
            "_view_name": "StyleView",
            "description_width": ""
          }
        },
        "53aab13b01ea4a769647739d8cb2f8ed": {
          "model_module": "@jupyter-widgets/base",
          "model_name": "LayoutModel",
          "model_module_version": "1.2.0",
          "state": {
            "_model_module": "@jupyter-widgets/base",
            "_model_module_version": "1.2.0",
            "_model_name": "LayoutModel",
            "_view_count": null,
            "_view_module": "@jupyter-widgets/base",
            "_view_module_version": "1.2.0",
            "_view_name": "LayoutView",
            "align_content": null,
            "align_items": null,
            "align_self": null,
            "border": null,
            "bottom": null,
            "display": null,
            "flex": null,
            "flex_flow": null,
            "grid_area": null,
            "grid_auto_columns": null,
            "grid_auto_flow": null,
            "grid_auto_rows": null,
            "grid_column": null,
            "grid_gap": null,
            "grid_row": null,
            "grid_template_areas": null,
            "grid_template_columns": null,
            "grid_template_rows": null,
            "height": null,
            "justify_content": null,
            "justify_items": null,
            "left": null,
            "margin": null,
            "max_height": null,
            "max_width": null,
            "min_height": null,
            "min_width": null,
            "object_fit": null,
            "object_position": null,
            "order": null,
            "overflow": null,
            "overflow_x": null,
            "overflow_y": null,
            "padding": null,
            "right": null,
            "top": null,
            "visibility": null,
            "width": null
          }
        },
        "3a2f9c7bc6194f3891913b0375bb4529": {
          "model_module": "@jupyter-widgets/controls",
          "model_name": "ProgressStyleModel",
          "model_module_version": "1.5.0",
          "state": {
            "_model_module": "@jupyter-widgets/controls",
            "_model_module_version": "1.5.0",
            "_model_name": "ProgressStyleModel",
            "_view_count": null,
            "_view_module": "@jupyter-widgets/base",
            "_view_module_version": "1.2.0",
            "_view_name": "StyleView",
            "bar_color": null,
            "description_width": ""
          }
        },
        "f6f2eb481cf4472bba65982faffff34d": {
          "model_module": "@jupyter-widgets/base",
          "model_name": "LayoutModel",
          "model_module_version": "1.2.0",
          "state": {
            "_model_module": "@jupyter-widgets/base",
            "_model_module_version": "1.2.0",
            "_model_name": "LayoutModel",
            "_view_count": null,
            "_view_module": "@jupyter-widgets/base",
            "_view_module_version": "1.2.0",
            "_view_name": "LayoutView",
            "align_content": null,
            "align_items": null,
            "align_self": null,
            "border": null,
            "bottom": null,
            "display": null,
            "flex": null,
            "flex_flow": null,
            "grid_area": null,
            "grid_auto_columns": null,
            "grid_auto_flow": null,
            "grid_auto_rows": null,
            "grid_column": null,
            "grid_gap": null,
            "grid_row": null,
            "grid_template_areas": null,
            "grid_template_columns": null,
            "grid_template_rows": null,
            "height": null,
            "justify_content": null,
            "justify_items": null,
            "left": null,
            "margin": null,
            "max_height": null,
            "max_width": null,
            "min_height": null,
            "min_width": null,
            "object_fit": null,
            "object_position": null,
            "order": null,
            "overflow": null,
            "overflow_x": null,
            "overflow_y": null,
            "padding": null,
            "right": null,
            "top": null,
            "visibility": null,
            "width": null
          }
        },
        "4f32539b56cd4bf5b4276ed1939f2d23": {
          "model_module": "@jupyter-widgets/controls",
          "model_name": "DescriptionStyleModel",
          "model_module_version": "1.5.0",
          "state": {
            "_model_module": "@jupyter-widgets/controls",
            "_model_module_version": "1.5.0",
            "_model_name": "DescriptionStyleModel",
            "_view_count": null,
            "_view_module": "@jupyter-widgets/base",
            "_view_module_version": "1.2.0",
            "_view_name": "StyleView",
            "description_width": ""
          }
        }
      }
    }
  },
  "nbformat": 4,
  "nbformat_minor": 0
}